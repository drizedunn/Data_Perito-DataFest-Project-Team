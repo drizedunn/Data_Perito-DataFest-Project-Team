{
  "cells": [
    {
      "cell_type": "markdown",
      "id": "2205ab52",
      "metadata": {
        "id": "2205ab52"
      },
      "source": [
        "# Team Data_perito DatafestAfrica ML Hackathon Solution\n",
        "## Predicting who is likely to complete the E-process application of a Financial Industry"
      ]
    },
    {
      "cell_type": "code",
      "source": [
        "#import all packages\n",
        "import numpy as np\n",
        "import pandas as pd\n",
        "import seaborn as sns\n",
        "import matplotlib.pyplot as plt\n",
        "import warnings\n",
        "import shap\n",
        "\n",
        "from sklearn.metrics import accuracy_score, roc_auc_score, f1_score\n",
        "from sklearn.ensemble import RandomForestClassifier\n",
        "from catboost import CatBoostClassifier\n",
        "from lightgbm import LGBMClassifier\n",
        "from sklearn.model_selection import train_test_split, KFold, StratifiedKFold\n",
        "warnings.filterwarnings('ignore')\n",
        "\n",
        "%matplotlib inline\n",
        "warnings.filterwarnings('ignore')"
      ],
      "metadata": {
        "id": "U6_z7yjcj8ss"
      },
      "id": "U6_z7yjcj8ss",
      "execution_count": null,
      "outputs": []
    },
    {
      "cell_type": "code",
      "source": [
        "#loading data\n",
        "train = pd.read_csv('train.csv')\n",
        "test = pd.read_csv('test.csv')"
      ],
      "metadata": {
        "id": "i7YnJyk0ldZ5"
      },
      "id": "i7YnJyk0ldZ5",
      "execution_count": null,
      "outputs": []
    },
    {
      "cell_type": "markdown",
      "source": [
        "## Exploratory Data Analysis\n",
        "\n",
        "### Introduction\n",
        "> This exploration is done on the train and test data provided for the competition. There are 21 features and 20 features in train and test respectively."
      ],
      "metadata": {
        "id": "ypdosR9xmBpz"
      },
      "id": "ypdosR9xmBpz"
    },
    {
      "cell_type": "code",
      "execution_count": null,
      "id": "17546613",
      "metadata": {
        "colab": {
          "base_uri": "https://localhost:8080/",
          "height": 300
        },
        "id": "17546613",
        "outputId": "351d4015-fb87-4e1f-f15e-b2ac6cfdc41d"
      },
      "outputs": [
        {
          "output_type": "execute_result",
          "data": {
            "text/plain": [
              "   Entry_id  age  pay_schedule  home_owner  income  months_employed  \\\n",
              "0   7629673   40     bi-weekly           1    3135                0   \n",
              "1   5335819   33  semi-monthly           0    3590                0   \n",
              "2   8492423   21        weekly           0    2303                0   \n",
              "3   7948313   26     bi-weekly           0    2795                0   \n",
              "4   4297036   43     bi-weekly           0    5000                0   \n",
              "\n",
              "   years_employed  current_address_year  personal_account_m  \\\n",
              "0               3                     3                   6   \n",
              "1               5                     2                   2   \n",
              "2               5                     8                   2   \n",
              "3               4                     4                   1   \n",
              "4               2                     1                   1   \n",
              "\n",
              "   personal_account_y  ...  amount_requested  risk_score  risk_score_2  \\\n",
              "0                   2  ...               550       36200      0.737398   \n",
              "1                   8  ...              1100       53850      0.617361   \n",
              "2                   7  ...               600       74850      0.677109   \n",
              "3                   6  ...               800       50800      0.738055   \n",
              "4                   2  ...              1100       69100      0.798303   \n",
              "\n",
              "   risk_score_3  risk_score_4  risk_score_5  ext_quality_score  \\\n",
              "0      0.903517      0.487712      0.515977           0.580918   \n",
              "1      0.857560      0.613487      0.665523           0.744634   \n",
              "2      0.758765      0.495609      0.664762           0.592556   \n",
              "3      0.873204      0.666437      0.700392           0.584130   \n",
              "4      0.841747      0.401971      0.568787           0.525905   \n",
              "\n",
              "   ext_quality_score_2  inquiries_last_month  e_signed  \n",
              "0             0.380918                    10         1  \n",
              "1             0.744634                    12         0  \n",
              "2             0.492556                     6         1  \n",
              "3             0.684130                    14         1  \n",
              "4             0.725905                     5         1  \n",
              "\n",
              "[5 rows x 21 columns]"
            ],
            "text/html": [
              "\n",
              "  <div id=\"df-81791aed-0de7-48fa-a013-de8d83a1fe86\">\n",
              "    <div class=\"colab-df-container\">\n",
              "      <div>\n",
              "<style scoped>\n",
              "    .dataframe tbody tr th:only-of-type {\n",
              "        vertical-align: middle;\n",
              "    }\n",
              "\n",
              "    .dataframe tbody tr th {\n",
              "        vertical-align: top;\n",
              "    }\n",
              "\n",
              "    .dataframe thead th {\n",
              "        text-align: right;\n",
              "    }\n",
              "</style>\n",
              "<table border=\"1\" class=\"dataframe\">\n",
              "  <thead>\n",
              "    <tr style=\"text-align: right;\">\n",
              "      <th></th>\n",
              "      <th>Entry_id</th>\n",
              "      <th>age</th>\n",
              "      <th>pay_schedule</th>\n",
              "      <th>home_owner</th>\n",
              "      <th>income</th>\n",
              "      <th>months_employed</th>\n",
              "      <th>years_employed</th>\n",
              "      <th>current_address_year</th>\n",
              "      <th>personal_account_m</th>\n",
              "      <th>personal_account_y</th>\n",
              "      <th>...</th>\n",
              "      <th>amount_requested</th>\n",
              "      <th>risk_score</th>\n",
              "      <th>risk_score_2</th>\n",
              "      <th>risk_score_3</th>\n",
              "      <th>risk_score_4</th>\n",
              "      <th>risk_score_5</th>\n",
              "      <th>ext_quality_score</th>\n",
              "      <th>ext_quality_score_2</th>\n",
              "      <th>inquiries_last_month</th>\n",
              "      <th>e_signed</th>\n",
              "    </tr>\n",
              "  </thead>\n",
              "  <tbody>\n",
              "    <tr>\n",
              "      <th>0</th>\n",
              "      <td>7629673</td>\n",
              "      <td>40</td>\n",
              "      <td>bi-weekly</td>\n",
              "      <td>1</td>\n",
              "      <td>3135</td>\n",
              "      <td>0</td>\n",
              "      <td>3</td>\n",
              "      <td>3</td>\n",
              "      <td>6</td>\n",
              "      <td>2</td>\n",
              "      <td>...</td>\n",
              "      <td>550</td>\n",
              "      <td>36200</td>\n",
              "      <td>0.737398</td>\n",
              "      <td>0.903517</td>\n",
              "      <td>0.487712</td>\n",
              "      <td>0.515977</td>\n",
              "      <td>0.580918</td>\n",
              "      <td>0.380918</td>\n",
              "      <td>10</td>\n",
              "      <td>1</td>\n",
              "    </tr>\n",
              "    <tr>\n",
              "      <th>1</th>\n",
              "      <td>5335819</td>\n",
              "      <td>33</td>\n",
              "      <td>semi-monthly</td>\n",
              "      <td>0</td>\n",
              "      <td>3590</td>\n",
              "      <td>0</td>\n",
              "      <td>5</td>\n",
              "      <td>2</td>\n",
              "      <td>2</td>\n",
              "      <td>8</td>\n",
              "      <td>...</td>\n",
              "      <td>1100</td>\n",
              "      <td>53850</td>\n",
              "      <td>0.617361</td>\n",
              "      <td>0.857560</td>\n",
              "      <td>0.613487</td>\n",
              "      <td>0.665523</td>\n",
              "      <td>0.744634</td>\n",
              "      <td>0.744634</td>\n",
              "      <td>12</td>\n",
              "      <td>0</td>\n",
              "    </tr>\n",
              "    <tr>\n",
              "      <th>2</th>\n",
              "      <td>8492423</td>\n",
              "      <td>21</td>\n",
              "      <td>weekly</td>\n",
              "      <td>0</td>\n",
              "      <td>2303</td>\n",
              "      <td>0</td>\n",
              "      <td>5</td>\n",
              "      <td>8</td>\n",
              "      <td>2</td>\n",
              "      <td>7</td>\n",
              "      <td>...</td>\n",
              "      <td>600</td>\n",
              "      <td>74850</td>\n",
              "      <td>0.677109</td>\n",
              "      <td>0.758765</td>\n",
              "      <td>0.495609</td>\n",
              "      <td>0.664762</td>\n",
              "      <td>0.592556</td>\n",
              "      <td>0.492556</td>\n",
              "      <td>6</td>\n",
              "      <td>1</td>\n",
              "    </tr>\n",
              "    <tr>\n",
              "      <th>3</th>\n",
              "      <td>7948313</td>\n",
              "      <td>26</td>\n",
              "      <td>bi-weekly</td>\n",
              "      <td>0</td>\n",
              "      <td>2795</td>\n",
              "      <td>0</td>\n",
              "      <td>4</td>\n",
              "      <td>4</td>\n",
              "      <td>1</td>\n",
              "      <td>6</td>\n",
              "      <td>...</td>\n",
              "      <td>800</td>\n",
              "      <td>50800</td>\n",
              "      <td>0.738055</td>\n",
              "      <td>0.873204</td>\n",
              "      <td>0.666437</td>\n",
              "      <td>0.700392</td>\n",
              "      <td>0.584130</td>\n",
              "      <td>0.684130</td>\n",
              "      <td>14</td>\n",
              "      <td>1</td>\n",
              "    </tr>\n",
              "    <tr>\n",
              "      <th>4</th>\n",
              "      <td>4297036</td>\n",
              "      <td>43</td>\n",
              "      <td>bi-weekly</td>\n",
              "      <td>0</td>\n",
              "      <td>5000</td>\n",
              "      <td>0</td>\n",
              "      <td>2</td>\n",
              "      <td>1</td>\n",
              "      <td>1</td>\n",
              "      <td>2</td>\n",
              "      <td>...</td>\n",
              "      <td>1100</td>\n",
              "      <td>69100</td>\n",
              "      <td>0.798303</td>\n",
              "      <td>0.841747</td>\n",
              "      <td>0.401971</td>\n",
              "      <td>0.568787</td>\n",
              "      <td>0.525905</td>\n",
              "      <td>0.725905</td>\n",
              "      <td>5</td>\n",
              "      <td>1</td>\n",
              "    </tr>\n",
              "  </tbody>\n",
              "</table>\n",
              "<p>5 rows × 21 columns</p>\n",
              "</div>\n",
              "      <button class=\"colab-df-convert\" onclick=\"convertToInteractive('df-81791aed-0de7-48fa-a013-de8d83a1fe86')\"\n",
              "              title=\"Convert this dataframe to an interactive table.\"\n",
              "              style=\"display:none;\">\n",
              "        \n",
              "  <svg xmlns=\"http://www.w3.org/2000/svg\" height=\"24px\"viewBox=\"0 0 24 24\"\n",
              "       width=\"24px\">\n",
              "    <path d=\"M0 0h24v24H0V0z\" fill=\"none\"/>\n",
              "    <path d=\"M18.56 5.44l.94 2.06.94-2.06 2.06-.94-2.06-.94-.94-2.06-.94 2.06-2.06.94zm-11 1L8.5 8.5l.94-2.06 2.06-.94-2.06-.94L8.5 2.5l-.94 2.06-2.06.94zm10 10l.94 2.06.94-2.06 2.06-.94-2.06-.94-.94-2.06-.94 2.06-2.06.94z\"/><path d=\"M17.41 7.96l-1.37-1.37c-.4-.4-.92-.59-1.43-.59-.52 0-1.04.2-1.43.59L10.3 9.45l-7.72 7.72c-.78.78-.78 2.05 0 2.83L4 21.41c.39.39.9.59 1.41.59.51 0 1.02-.2 1.41-.59l7.78-7.78 2.81-2.81c.8-.78.8-2.07 0-2.86zM5.41 20L4 18.59l7.72-7.72 1.47 1.35L5.41 20z\"/>\n",
              "  </svg>\n",
              "      </button>\n",
              "      \n",
              "  <style>\n",
              "    .colab-df-container {\n",
              "      display:flex;\n",
              "      flex-wrap:wrap;\n",
              "      gap: 12px;\n",
              "    }\n",
              "\n",
              "    .colab-df-convert {\n",
              "      background-color: #E8F0FE;\n",
              "      border: none;\n",
              "      border-radius: 50%;\n",
              "      cursor: pointer;\n",
              "      display: none;\n",
              "      fill: #1967D2;\n",
              "      height: 32px;\n",
              "      padding: 0 0 0 0;\n",
              "      width: 32px;\n",
              "    }\n",
              "\n",
              "    .colab-df-convert:hover {\n",
              "      background-color: #E2EBFA;\n",
              "      box-shadow: 0px 1px 2px rgba(60, 64, 67, 0.3), 0px 1px 3px 1px rgba(60, 64, 67, 0.15);\n",
              "      fill: #174EA6;\n",
              "    }\n",
              "\n",
              "    [theme=dark] .colab-df-convert {\n",
              "      background-color: #3B4455;\n",
              "      fill: #D2E3FC;\n",
              "    }\n",
              "\n",
              "    [theme=dark] .colab-df-convert:hover {\n",
              "      background-color: #434B5C;\n",
              "      box-shadow: 0px 1px 3px 1px rgba(0, 0, 0, 0.15);\n",
              "      filter: drop-shadow(0px 1px 2px rgba(0, 0, 0, 0.3));\n",
              "      fill: #FFFFFF;\n",
              "    }\n",
              "  </style>\n",
              "\n",
              "      <script>\n",
              "        const buttonEl =\n",
              "          document.querySelector('#df-81791aed-0de7-48fa-a013-de8d83a1fe86 button.colab-df-convert');\n",
              "        buttonEl.style.display =\n",
              "          google.colab.kernel.accessAllowed ? 'block' : 'none';\n",
              "\n",
              "        async function convertToInteractive(key) {\n",
              "          const element = document.querySelector('#df-81791aed-0de7-48fa-a013-de8d83a1fe86');\n",
              "          const dataTable =\n",
              "            await google.colab.kernel.invokeFunction('convertToInteractive',\n",
              "                                                     [key], {});\n",
              "          if (!dataTable) return;\n",
              "\n",
              "          const docLinkHtml = 'Like what you see? Visit the ' +\n",
              "            '<a target=\"_blank\" href=https://colab.research.google.com/notebooks/data_table.ipynb>data table notebook</a>'\n",
              "            + ' to learn more about interactive tables.';\n",
              "          element.innerHTML = '';\n",
              "          dataTable['output_type'] = 'display_data';\n",
              "          await google.colab.output.renderOutput(dataTable, element);\n",
              "          const docLink = document.createElement('div');\n",
              "          docLink.innerHTML = docLinkHtml;\n",
              "          element.appendChild(docLink);\n",
              "        }\n",
              "      </script>\n",
              "    </div>\n",
              "  </div>\n",
              "  "
            ]
          },
          "metadata": {},
          "execution_count": 9
        }
      ],
      "source": [
        "#top 5 rows\n",
        "train.head()"
      ]
    },
    {
      "cell_type": "code",
      "execution_count": null,
      "id": "62305e87",
      "metadata": {
        "colab": {
          "base_uri": "https://localhost:8080/"
        },
        "id": "62305e87",
        "outputId": "7057af8b-3c75-4572-c394-8ac2cb0b3c6b"
      },
      "outputs": [
        {
          "output_type": "stream",
          "name": "stdout",
          "text": [
            "The shape of the train data is (12516, 21)\n",
            "The shape of the test data is (5392, 20)\n"
          ]
        }
      ],
      "source": [
        "print(f'The shape of the train data is {train.shape}')\n",
        "print(f'The shape of the test data is {test.shape}')"
      ]
    },
    {
      "cell_type": "code",
      "execution_count": null,
      "id": "785f1dd0",
      "metadata": {
        "colab": {
          "base_uri": "https://localhost:8080/"
        },
        "id": "785f1dd0",
        "outputId": "48181ca4-34b5-4531-b479-564c5d5b2c59"
      },
      "outputs": [
        {
          "output_type": "execute_result",
          "data": {
            "text/plain": [
              "Index(['Entry_id', 'age', 'pay_schedule', 'home_owner', 'income',\n",
              "       'months_employed', 'years_employed', 'current_address_year',\n",
              "       'personal_account_m', 'personal_account_y', 'has_debt',\n",
              "       'amount_requested', 'risk_score', 'risk_score_2', 'risk_score_3',\n",
              "       'risk_score_4', 'risk_score_5', 'ext_quality_score',\n",
              "       'ext_quality_score_2', 'inquiries_last_month', 'e_signed'],\n",
              "      dtype='object')"
            ]
          },
          "metadata": {},
          "execution_count": 7
        }
      ],
      "source": [
        "#List of columns in the train data\n",
        "train.columns"
      ]
    },
    {
      "cell_type": "code",
      "execution_count": null,
      "id": "46968aae",
      "metadata": {
        "colab": {
          "base_uri": "https://localhost:8080/"
        },
        "id": "46968aae",
        "outputId": "8fc03cef-9431-4e9e-f2d4-1befb99627bd"
      },
      "outputs": [
        {
          "output_type": "execute_result",
          "data": {
            "text/plain": [
              "Index(['Entry_id', 'age', 'pay_schedule', 'home_owner', 'income',\n",
              "       'months_employed', 'years_employed', 'current_address_year',\n",
              "       'personal_account_m', 'personal_account_y', 'has_debt',\n",
              "       'amount_requested', 'risk_score', 'risk_score_2', 'risk_score_3',\n",
              "       'risk_score_4', 'risk_score_5', 'ext_quality_score',\n",
              "       'ext_quality_score_2', 'inquiries_last_month'],\n",
              "      dtype='object')"
            ]
          },
          "metadata": {},
          "execution_count": 8
        }
      ],
      "source": [
        "#List of columns in the test data\n",
        "test.columns"
      ]
    },
    {
      "cell_type": "markdown",
      "id": "34393ebe",
      "metadata": {
        "id": "34393ebe"
      },
      "source": [
        "The train contain 12516 records, 21 columns while the test contain 5392 records and 20 columns. The difference of the train and test in features is the target column `e_signed`."
      ]
    },
    {
      "cell_type": "code",
      "execution_count": null,
      "id": "79e397c9",
      "metadata": {
        "colab": {
          "base_uri": "https://localhost:8080/"
        },
        "id": "79e397c9",
        "outputId": "5ccb677c-3015-4f09-b67e-f6180dea26a1"
      },
      "outputs": [
        {
          "output_type": "stream",
          "name": "stdout",
          "text": [
            "<class 'pandas.core.frame.DataFrame'>\n",
            "RangeIndex: 12516 entries, 0 to 12515\n",
            "Data columns (total 21 columns):\n",
            " #   Column                Non-Null Count  Dtype  \n",
            "---  ------                --------------  -----  \n",
            " 0   Entry_id              12516 non-null  int64  \n",
            " 1   age                   12516 non-null  int64  \n",
            " 2   pay_schedule          12516 non-null  object \n",
            " 3   home_owner            12516 non-null  int64  \n",
            " 4   income                12516 non-null  int64  \n",
            " 5   months_employed       12516 non-null  int64  \n",
            " 6   years_employed        12516 non-null  int64  \n",
            " 7   current_address_year  12516 non-null  int64  \n",
            " 8   personal_account_m    12516 non-null  int64  \n",
            " 9   personal_account_y    12516 non-null  int64  \n",
            " 10  has_debt              12516 non-null  int64  \n",
            " 11  amount_requested      12516 non-null  int64  \n",
            " 12  risk_score            12516 non-null  int64  \n",
            " 13  risk_score_2          12516 non-null  float64\n",
            " 14  risk_score_3          12516 non-null  float64\n",
            " 15  risk_score_4          12516 non-null  float64\n",
            " 16  risk_score_5          12516 non-null  float64\n",
            " 17  ext_quality_score     12516 non-null  float64\n",
            " 18  ext_quality_score_2   12516 non-null  float64\n",
            " 19  inquiries_last_month  12516 non-null  int64  \n",
            " 20  e_signed              12516 non-null  int64  \n",
            "dtypes: float64(6), int64(14), object(1)\n",
            "memory usage: 2.0+ MB\n"
          ]
        }
      ],
      "source": [
        "#Basic information of the train data\n",
        "train.info()"
      ]
    },
    {
      "cell_type": "code",
      "execution_count": null,
      "id": "4e5dd48a",
      "metadata": {
        "colab": {
          "base_uri": "https://localhost:8080/"
        },
        "id": "4e5dd48a",
        "outputId": "c35ba084-c8b3-4d54-81c9-b3489be6e0f2"
      },
      "outputs": [
        {
          "output_type": "stream",
          "name": "stdout",
          "text": [
            "<class 'pandas.core.frame.DataFrame'>\n",
            "RangeIndex: 5392 entries, 0 to 5391\n",
            "Data columns (total 20 columns):\n",
            " #   Column                Non-Null Count  Dtype  \n",
            "---  ------                --------------  -----  \n",
            " 0   Entry_id              5392 non-null   int64  \n",
            " 1   age                   5392 non-null   int64  \n",
            " 2   pay_schedule          5392 non-null   object \n",
            " 3   home_owner            5392 non-null   int64  \n",
            " 4   income                5392 non-null   int64  \n",
            " 5   months_employed       5392 non-null   int64  \n",
            " 6   years_employed        5392 non-null   int64  \n",
            " 7   current_address_year  5392 non-null   int64  \n",
            " 8   personal_account_m    5392 non-null   int64  \n",
            " 9   personal_account_y    5392 non-null   int64  \n",
            " 10  has_debt              5392 non-null   int64  \n",
            " 11  amount_requested      5392 non-null   int64  \n",
            " 12  risk_score            5392 non-null   int64  \n",
            " 13  risk_score_2          5392 non-null   float64\n",
            " 14  risk_score_3          5392 non-null   float64\n",
            " 15  risk_score_4          5392 non-null   float64\n",
            " 16  risk_score_5          5392 non-null   float64\n",
            " 17  ext_quality_score     5392 non-null   float64\n",
            " 18  ext_quality_score_2   5392 non-null   float64\n",
            " 19  inquiries_last_month  5392 non-null   int64  \n",
            "dtypes: float64(6), int64(13), object(1)\n",
            "memory usage: 842.6+ KB\n"
          ]
        }
      ],
      "source": [
        "#Basic information of the test data\n",
        "test.info()"
      ]
    },
    {
      "cell_type": "markdown",
      "id": "ff850031",
      "metadata": {
        "id": "ff850031"
      },
      "source": [
        "The train and test is made up of float, int and object dtypes. Some of the features have been preprocessed to numerical e.g `home_owner`, `months_employed`, `years_employed` which could have been categorical."
      ]
    },
    {
      "cell_type": "markdown",
      "id": "5ff28ed9",
      "metadata": {
        "id": "5ff28ed9"
      },
      "source": [
        "The dataset(train and test) contain no missing values."
      ]
    },
    {
      "cell_type": "code",
      "execution_count": null,
      "id": "d0c385d0",
      "metadata": {
        "colab": {
          "base_uri": "https://localhost:8080/"
        },
        "id": "d0c385d0",
        "outputId": "135b25b1-6874-4223-86b0-1d0712965d8e"
      },
      "outputs": [
        {
          "output_type": "stream",
          "name": "stdout",
          "text": [
            "0\n",
            "0\n"
          ]
        }
      ],
      "source": [
        "# checking for duplicates in both train and test data\n",
        "print(train.duplicated().sum())\n",
        "print(test.duplicated().sum())"
      ]
    },
    {
      "cell_type": "markdown",
      "id": "d9be0890",
      "metadata": {
        "id": "d9be0890"
      },
      "source": [
        "Both the train and test contain no duplicate."
      ]
    },
    {
      "cell_type": "markdown",
      "id": "1492c082",
      "metadata": {
        "id": "1492c082"
      },
      "source": [
        "#### Age"
      ]
    },
    {
      "cell_type": "code",
      "execution_count": null,
      "id": "304b814e",
      "metadata": {
        "id": "304b814e"
      },
      "outputs": [],
      "source": [
        "#distribution plot for the age"
      ]
    },
    {
      "cell_type": "code",
      "execution_count": null,
      "id": "1b1b4625",
      "metadata": {
        "id": "1b1b4625"
      },
      "outputs": [],
      "source": [
        "#a function to plot histogram\n",
        "def histogram(name):\n",
        "    fig, ax = plt.subplots(ncols=2, figsize = [10,5])\n",
        "    ax[0].hist(train[name])\n",
        "    ax[1].hist(test[name])\n",
        "    plt.xlabel(name)\n",
        "    ax[0].title.set_text(name+'_Train')\n",
        "    ax[1].title.set_text(name+'_Test');"
      ]
    },
    {
      "cell_type": "code",
      "execution_count": null,
      "id": "42bc60d1",
      "metadata": {
        "scrolled": true,
        "colab": {
          "base_uri": "https://localhost:8080/",
          "height": 350
        },
        "id": "42bc60d1",
        "outputId": "ed884d39-039f-48dc-e7b0-be195cbaed42"
      },
      "outputs": [
        {
          "output_type": "display_data",
          "data": {
            "text/plain": [
              "<Figure size 720x360 with 2 Axes>"
            ],
            "image/png": "[encoded data removed]"
          },
          "metadata": {
            "needs_background": "light"
          }
        }
      ],
      "source": [
        "histogram('age')"
      ]
    },
    {
      "cell_type": "markdown",
      "id": "864fbc2f",
      "metadata": {
        "id": "864fbc2f"
      },
      "source": [
        "The distribution of the age follows a normal distribution. and 90% of the age of the record is between 30 - 60 years. And the distribution plotted shows no outliers."
      ]
    },
    {
      "cell_type": "markdown",
      "id": "f7f403bb",
      "metadata": {
        "id": "f7f403bb"
      },
      "source": [
        "#### Pay_schedule"
      ]
    },
    {
      "cell_type": "code",
      "execution_count": null,
      "id": "8d9986b0",
      "metadata": {
        "id": "8d9986b0"
      },
      "outputs": [],
      "source": [
        "#a function to plot count of categories\n",
        "def countplot(name):\n",
        "    \n",
        "    #to set order of categories\n",
        "    train_order = train[name].value_counts().keys()\n",
        "    test_order = test[name].value_counts().keys()\n",
        "    \n",
        "    fig, ax = plt.subplots(ncols=2, figsize = [10,5])\n",
        "    sns.countplot(train[name], ax=ax[0], color='blue', order=train_order)\n",
        "    sns.countplot(test[name], ax=ax[1], color='blue', order=test_order)\n",
        "    \n",
        "    ax[0].title.set_text(name+'_Train')\n",
        "    ax[1].title.set_text(name+'_Test');"
      ]
    },
    {
      "cell_type": "code",
      "execution_count": null,
      "id": "173aba25",
      "metadata": {
        "scrolled": true,
        "colab": {
          "base_uri": "https://localhost:8080/",
          "height": 351
        },
        "id": "173aba25",
        "outputId": "85c936c9-e9dc-4a5c-dcc5-7e7c25c2b05b"
      },
      "outputs": [
        {
          "output_type": "display_data",
          "data": {
            "text/plain": [
              "<Figure size 720x360 with 2 Axes>"
            ],
            "image/png": "[encoded data removed]"
          },
          "metadata": {
            "needs_background": "light"
          }
        }
      ],
      "source": [
        "countplot('pay_schedule')"
      ]
    },
    {
      "cell_type": "code",
      "execution_count": null,
      "id": "f2334567",
      "metadata": {
        "colab": {
          "base_uri": "https://localhost:8080/",
          "height": 280
        },
        "id": "f2334567",
        "outputId": "bf1f606b-70dc-40b4-8edd-604a19f6404d"
      },
      "outputs": [
        {
          "output_type": "display_data",
          "data": {
            "text/plain": [
              "<Figure size 432x288 with 1 Axes>"
            ],
            "image/png": "[encoded data removed]"
          },
          "metadata": {
            "needs_background": "light"
          }
        }
      ],
      "source": [
        "sns.countplot(train.pay_schedule, hue=train.e_signed);"
      ]
    },
    {
      "cell_type": "markdown",
      "id": "d99799ac",
      "metadata": {
        "id": "d99799ac"
      },
      "source": [
        "In both cases of our data, the bi-weekly pay schedule is the most preferred way of payment followed by weeky and lastly monthly. The chart also shows that there are 4 categories of pay schedule; Weekly, Bi-weekly, Semi-monthly and Monthly.\n",
        "\n",
        "The payment method using ratio of each categories has no much impact on the approval."
      ]
    },
    {
      "cell_type": "markdown",
      "id": "e28d7b06",
      "metadata": {
        "id": "e28d7b06"
      },
      "source": [
        "#### Home Owner"
      ]
    },
    {
      "cell_type": "code",
      "execution_count": null,
      "id": "85e2b8db",
      "metadata": {
        "id": "85e2b8db",
        "outputId": "49d863e7-e9a9-4cd4-b636-efe5f0267fd5",
        "colab": {
          "base_uri": "https://localhost:8080/",
          "height": 351
        }
      },
      "outputs": [
        {
          "output_type": "display_data",
          "data": {
            "text/plain": [
              "<Figure size 720x360 with 2 Axes>"
            ],
            "image/png": "[encoded data removed]"
          },
          "metadata": {
            "needs_background": "light"
          }
        }
      ],
      "source": [
        "countplot('home_owner')"
      ]
    },
    {
      "cell_type": "code",
      "execution_count": null,
      "id": "1e9dd3ae",
      "metadata": {
        "id": "1e9dd3ae",
        "outputId": "ac5a0bb0-e796-4d5a-e5ff-220b9363c2db"
      },
      "outputs": [
        {
          "data": {
            "text/plain": [
              "0    0.574944\n",
              "1    0.425056\n",
              "Name: home_owner, dtype: float64"
            ]
          },
          "execution_count": 73,
          "metadata": {},
          "output_type": "execute_result"
        }
      ],
      "source": [
        "train.home_owner.value_counts(normalize=True)"
      ]
    },
    {
      "cell_type": "code",
      "execution_count": null,
      "id": "e95f9c5d",
      "metadata": {
        "id": "e95f9c5d",
        "outputId": "7b45ac82-aaef-4fa0-9398-24bef4f5933d"
      },
      "outputs": [
        {
          "data": {
            "image/png": "[encoded data removed]",
            "text/plain": [
              "<Figure size 432x288 with 1 Axes>"
            ]
          },
          "metadata": {
            "needs_background": "light"
          },
          "output_type": "display_data"
        }
      ],
      "source": [
        "sns.countplot(train.home_owner, hue=train.e_signed);"
      ]
    },
    {
      "cell_type": "markdown",
      "id": "d7913151",
      "metadata": {
        "id": "d7913151"
      },
      "source": [
        "Assuming having a home is 1 and not is 0, it shows that in the dataset does without homes are a little bit more than those who have. \n",
        "\n",
        "Almost all home owner gets equal chance of getting approved or rejected. "
      ]
    },
    {
      "cell_type": "markdown",
      "id": "df72149b",
      "metadata": {
        "id": "df72149b"
      },
      "source": [
        "### Income"
      ]
    },
    {
      "cell_type": "code",
      "execution_count": null,
      "id": "e4737038",
      "metadata": {
        "id": "e4737038",
        "outputId": "e030798c-1f5c-4f8f-b656-eecdd9d8020a",
        "colab": {
          "base_uri": "https://localhost:8080/",
          "height": 350
        }
      },
      "outputs": [
        {
          "output_type": "display_data",
          "data": {
            "text/plain": [
              "<Figure size 720x360 with 2 Axes>"
            ],
            "image/png": "[encoded data removed]"
          },
          "metadata": {
            "needs_background": "light"
          }
        }
      ],
      "source": [
        "histogram('income')"
      ]
    },
    {
      "cell_type": "markdown",
      "id": "c0658478",
      "metadata": {
        "id": "c0658478"
      },
      "source": [
        "The income distribution is right skewed, it also show as spike of customer earning within 2000 to 3000 borrowing more. \n",
        "A log transformation of this may improve modelo performance and further analysis."
      ]
    },
    {
      "cell_type": "markdown",
      "id": "c7fce970",
      "metadata": {
        "id": "c7fce970"
      },
      "source": [
        "#### Month Employed"
      ]
    },
    {
      "cell_type": "code",
      "execution_count": null,
      "id": "442382a2",
      "metadata": {
        "id": "442382a2",
        "outputId": "4159942f-7daf-4713-93b4-e4f802499a77",
        "colab": {
          "base_uri": "https://localhost:8080/",
          "height": 351
        }
      },
      "outputs": [
        {
          "output_type": "display_data",
          "data": {
            "text/plain": [
              "<Figure size 720x360 with 2 Axes>"
            ],
            "image/png": "[encoded data removed]"
          },
          "metadata": {
            "needs_background": "light"
          }
        }
      ],
      "source": [
        "countplot('months_employed')"
      ]
    },
    {
      "cell_type": "markdown",
      "id": "9bef7e0c",
      "metadata": {
        "id": "9bef7e0c"
      },
      "source": [
        "Something seems not right, the data shows a behaviour of customer having more to borrow in the 0 month which can be December or January. This period is a festive period\n",
        "To boost model performance this feature can be dummified or used in feature generation."
      ]
    },
    {
      "cell_type": "markdown",
      "id": "abd0f52d",
      "metadata": {
        "id": "abd0f52d"
      },
      "source": [
        "#### Year Employed"
      ]
    },
    {
      "cell_type": "code",
      "execution_count": null,
      "id": "4975e6e9",
      "metadata": {
        "id": "4975e6e9",
        "outputId": "578085af-9e73-4e4f-a93d-b8a4295b637f",
        "colab": {
          "base_uri": "https://localhost:8080/",
          "height": 351
        }
      },
      "outputs": [
        {
          "output_type": "display_data",
          "data": {
            "text/plain": [
              "<Figure size 720x360 with 2 Axes>"
            ],
            "image/png": "[encoded data removed]"
          },
          "metadata": {
            "needs_background": "light"
          }
        }
      ],
      "source": [
        "countplot('years_employed')"
      ]
    },
    {
      "cell_type": "markdown",
      "id": "ac301b90",
      "metadata": {
        "id": "ac301b90"
      },
      "source": [
        "Majority of the those that borrow have less than 7 years of employment. and one-hot will be a bad idea for the feature, the train has data with higher year of employment than the test."
      ]
    },
    {
      "cell_type": "markdown",
      "id": "50b68803",
      "metadata": {
        "id": "50b68803"
      },
      "source": [
        "#### Current Address Year"
      ]
    },
    {
      "cell_type": "code",
      "execution_count": null,
      "id": "0117f0f6",
      "metadata": {
        "colab": {
          "base_uri": "https://localhost:8080/",
          "height": 351
        },
        "id": "0117f0f6",
        "outputId": "5f709fe3-b83e-49fd-9ad8-d83d08caea5f"
      },
      "outputs": [
        {
          "output_type": "display_data",
          "data": {
            "text/plain": [
              "<Figure size 720x360 with 2 Axes>"
            ],
            "image/png": "[encoded data removed]"
          },
          "metadata": {
            "needs_background": "light"
          }
        }
      ],
      "source": [
        "countplot('current_address_year')"
      ]
    },
    {
      "cell_type": "markdown",
      "id": "6bf79bb7",
      "metadata": {
        "id": "6bf79bb7"
      },
      "source": [
        "#### Has Debt"
      ]
    },
    {
      "cell_type": "code",
      "execution_count": null,
      "id": "66b92451",
      "metadata": {
        "id": "66b92451",
        "outputId": "b3d0bf02-7bf8-456c-edfd-ed50162bb341",
        "colab": {
          "base_uri": "https://localhost:8080/",
          "height": 351
        }
      },
      "outputs": [
        {
          "output_type": "display_data",
          "data": {
            "text/plain": [
              "<Figure size 720x360 with 2 Axes>"
            ],
            "image/png": "[encoded data removed]"
          },
          "metadata": {
            "needs_background": "light"
          }
        }
      ],
      "source": [
        "countplot('has_debt')"
      ]
    },
    {
      "cell_type": "code",
      "execution_count": null,
      "id": "35d90250",
      "metadata": {
        "id": "35d90250",
        "outputId": "789a10a4-6826-4bf3-b9f8-93cc27fc2b88",
        "colab": {
          "base_uri": "https://localhost:8080/",
          "height": 280
        }
      },
      "outputs": [
        {
          "output_type": "display_data",
          "data": {
            "text/plain": [
              "<Figure size 432x288 with 1 Axes>"
            ],
            "image/png": "[encoded data removed]"
          },
          "metadata": {
            "needs_background": "light"
          }
        }
      ],
      "source": [
        "sns.countplot(train.has_debt, hue = train.e_signed);"
      ]
    },
    {
      "cell_type": "markdown",
      "id": "0a6ad3a6",
      "metadata": {
        "id": "0a6ad3a6"
      },
      "source": [
        "This shows that majority has debt, if 1 represent Yes in the encoded data. And there is a strong correlation between the e-signed and the 0 has_debt.\n",
        "Shows that having debt might be a good consideration in approving loan."
      ]
    },
    {
      "cell_type": "markdown",
      "id": "4a98c370",
      "metadata": {
        "id": "4a98c370"
      },
      "source": [
        "#### Amount Request"
      ]
    },
    {
      "cell_type": "code",
      "execution_count": null,
      "id": "4483120b",
      "metadata": {
        "id": "4483120b",
        "outputId": "943f7335-78fc-4965-ef08-ede6bb1347dc",
        "colab": {
          "base_uri": "https://localhost:8080/",
          "height": 351
        }
      },
      "outputs": [
        {
          "output_type": "display_data",
          "data": {
            "text/plain": [
              "<Figure size 720x360 with 2 Axes>"
            ],
            "image/png": "[encoded data removed]"
          },
          "metadata": {
            "needs_background": "light"
          }
        }
      ],
      "source": [
        "histogram('amount_requested')"
      ]
    },
    {
      "cell_type": "code",
      "execution_count": null,
      "id": "97cc6ea3",
      "metadata": {
        "id": "97cc6ea3",
        "outputId": "83c4e771-3f98-4fae-f403-6526c9fc2181",
        "colab": {
          "base_uri": "https://localhost:8080/",
          "height": 297
        }
      },
      "outputs": [
        {
          "output_type": "execute_result",
          "data": {
            "text/plain": [
              "<matplotlib.axes._subplots.AxesSubplot at 0x7f6668055810>"
            ]
          },
          "metadata": {},
          "execution_count": 26
        },
        {
          "output_type": "display_data",
          "data": {
            "text/plain": [
              "<Figure size 432x288 with 1 Axes>"
            ],
            "image/png": "[encoded data removed]"
          },
          "metadata": {
            "needs_background": "light"
          }
        }
      ],
      "source": [
        "sns.boxplot(train.amount_requested)"
      ]
    },
    {
      "cell_type": "markdown",
      "id": "451859ad",
      "metadata": {
        "id": "451859ad"
      },
      "source": [
        "The amount requested can be has high as 10000, which can be outlier, and it is left skewed. Log transformation can cause a change."
      ]
    },
    {
      "cell_type": "markdown",
      "id": "c0f9fb49",
      "metadata": {
        "id": "c0f9fb49"
      },
      "source": [
        "#### Risk Score"
      ]
    },
    {
      "cell_type": "code",
      "execution_count": null,
      "id": "ba60a931",
      "metadata": {
        "id": "ba60a931",
        "outputId": "6ef07452-ed53-4c26-d0df-38895ba8b2f4",
        "colab": {
          "base_uri": "https://localhost:8080/",
          "height": 206
        }
      },
      "outputs": [
        {
          "output_type": "execute_result",
          "data": {
            "text/plain": [
              "   risk_score  risk_score_2  risk_score_3  risk_score_4  risk_score_5\n",
              "0       36200      0.737398      0.903517      0.487712      0.515977\n",
              "1       53850      0.617361      0.857560      0.613487      0.665523\n",
              "2       74850      0.677109      0.758765      0.495609      0.664762\n",
              "3       50800      0.738055      0.873204      0.666437      0.700392\n",
              "4       69100      0.798303      0.841747      0.401971      0.568787"
            ],
            "text/html": [
              "\n",
              "  <div id=\"df-10b039d9-9152-4892-91e9-95fa1ba8edf4\">\n",
              "    <div class=\"colab-df-container\">\n",
              "      <div>\n",
              "<style scoped>\n",
              "    .dataframe tbody tr th:only-of-type {\n",
              "        vertical-align: middle;\n",
              "    }\n",
              "\n",
              "    .dataframe tbody tr th {\n",
              "        vertical-align: top;\n",
              "    }\n",
              "\n",
              "    .dataframe thead th {\n",
              "        text-align: right;\n",
              "    }\n",
              "</style>\n",
              "<table border=\"1\" class=\"dataframe\">\n",
              "  <thead>\n",
              "    <tr style=\"text-align: right;\">\n",
              "      <th></th>\n",
              "      <th>risk_score</th>\n",
              "      <th>risk_score_2</th>\n",
              "      <th>risk_score_3</th>\n",
              "      <th>risk_score_4</th>\n",
              "      <th>risk_score_5</th>\n",
              "    </tr>\n",
              "  </thead>\n",
              "  <tbody>\n",
              "    <tr>\n",
              "      <th>0</th>\n",
              "      <td>36200</td>\n",
              "      <td>0.737398</td>\n",
              "      <td>0.903517</td>\n",
              "      <td>0.487712</td>\n",
              "      <td>0.515977</td>\n",
              "    </tr>\n",
              "    <tr>\n",
              "      <th>1</th>\n",
              "      <td>53850</td>\n",
              "      <td>0.617361</td>\n",
              "      <td>0.857560</td>\n",
              "      <td>0.613487</td>\n",
              "      <td>0.665523</td>\n",
              "    </tr>\n",
              "    <tr>\n",
              "      <th>2</th>\n",
              "      <td>74850</td>\n",
              "      <td>0.677109</td>\n",
              "      <td>0.758765</td>\n",
              "      <td>0.495609</td>\n",
              "      <td>0.664762</td>\n",
              "    </tr>\n",
              "    <tr>\n",
              "      <th>3</th>\n",
              "      <td>50800</td>\n",
              "      <td>0.738055</td>\n",
              "      <td>0.873204</td>\n",
              "      <td>0.666437</td>\n",
              "      <td>0.700392</td>\n",
              "    </tr>\n",
              "    <tr>\n",
              "      <th>4</th>\n",
              "      <td>69100</td>\n",
              "      <td>0.798303</td>\n",
              "      <td>0.841747</td>\n",
              "      <td>0.401971</td>\n",
              "      <td>0.568787</td>\n",
              "    </tr>\n",
              "  </tbody>\n",
              "</table>\n",
              "</div>\n",
              "      <button class=\"colab-df-convert\" onclick=\"convertToInteractive('df-10b039d9-9152-4892-91e9-95fa1ba8edf4')\"\n",
              "              title=\"Convert this dataframe to an interactive table.\"\n",
              "              style=\"display:none;\">\n",
              "        \n",
              "  <svg xmlns=\"http://www.w3.org/2000/svg\" height=\"24px\"viewBox=\"0 0 24 24\"\n",
              "       width=\"24px\">\n",
              "    <path d=\"M0 0h24v24H0V0z\" fill=\"none\"/>\n",
              "    <path d=\"M18.56 5.44l.94 2.06.94-2.06 2.06-.94-2.06-.94-.94-2.06-.94 2.06-2.06.94zm-11 1L8.5 8.5l.94-2.06 2.06-.94-2.06-.94L8.5 2.5l-.94 2.06-2.06.94zm10 10l.94 2.06.94-2.06 2.06-.94-2.06-.94-.94-2.06-.94 2.06-2.06.94z\"/><path d=\"M17.41 7.96l-1.37-1.37c-.4-.4-.92-.59-1.43-.59-.52 0-1.04.2-1.43.59L10.3 9.45l-7.72 7.72c-.78.78-.78 2.05 0 2.83L4 21.41c.39.39.9.59 1.41.59.51 0 1.02-.2 1.41-.59l7.78-7.78 2.81-2.81c.8-.78.8-2.07 0-2.86zM5.41 20L4 18.59l7.72-7.72 1.47 1.35L5.41 20z\"/>\n",
              "  </svg>\n",
              "      </button>\n",
              "      \n",
              "  <style>\n",
              "    .colab-df-container {\n",
              "      display:flex;\n",
              "      flex-wrap:wrap;\n",
              "      gap: 12px;\n",
              "    }\n",
              "\n",
              "    .colab-df-convert {\n",
              "      background-color: #E8F0FE;\n",
              "      border: none;\n",
              "      border-radius: 50%;\n",
              "      cursor: pointer;\n",
              "      display: none;\n",
              "      fill: #1967D2;\n",
              "      height: 32px;\n",
              "      padding: 0 0 0 0;\n",
              "      width: 32px;\n",
              "    }\n",
              "\n",
              "    .colab-df-convert:hover {\n",
              "      background-color: #E2EBFA;\n",
              "      box-shadow: 0px 1px 2px rgba(60, 64, 67, 0.3), 0px 1px 3px 1px rgba(60, 64, 67, 0.15);\n",
              "      fill: #174EA6;\n",
              "    }\n",
              "\n",
              "    [theme=dark] .colab-df-convert {\n",
              "      background-color: #3B4455;\n",
              "      fill: #D2E3FC;\n",
              "    }\n",
              "\n",
              "    [theme=dark] .colab-df-convert:hover {\n",
              "      background-color: #434B5C;\n",
              "      box-shadow: 0px 1px 3px 1px rgba(0, 0, 0, 0.15);\n",
              "      filter: drop-shadow(0px 1px 2px rgba(0, 0, 0, 0.3));\n",
              "      fill: #FFFFFF;\n",
              "    }\n",
              "  </style>\n",
              "\n",
              "      <script>\n",
              "        const buttonEl =\n",
              "          document.querySelector('#df-10b039d9-9152-4892-91e9-95fa1ba8edf4 button.colab-df-convert');\n",
              "        buttonEl.style.display =\n",
              "          google.colab.kernel.accessAllowed ? 'block' : 'none';\n",
              "\n",
              "        async function convertToInteractive(key) {\n",
              "          const element = document.querySelector('#df-10b039d9-9152-4892-91e9-95fa1ba8edf4');\n",
              "          const dataTable =\n",
              "            await google.colab.kernel.invokeFunction('convertToInteractive',\n",
              "                                                     [key], {});\n",
              "          if (!dataTable) return;\n",
              "\n",
              "          const docLinkHtml = 'Like what you see? Visit the ' +\n",
              "            '<a target=\"_blank\" href=https://colab.research.google.com/notebooks/data_table.ipynb>data table notebook</a>'\n",
              "            + ' to learn more about interactive tables.';\n",
              "          element.innerHTML = '';\n",
              "          dataTable['output_type'] = 'display_data';\n",
              "          await google.colab.output.renderOutput(dataTable, element);\n",
              "          const docLink = document.createElement('div');\n",
              "          docLink.innerHTML = docLinkHtml;\n",
              "          element.appendChild(docLink);\n",
              "        }\n",
              "      </script>\n",
              "    </div>\n",
              "  </div>\n",
              "  "
            ]
          },
          "metadata": {},
          "execution_count": 27
        }
      ],
      "source": [
        "train[['risk_score', 'risk_score_2', 'risk_score_3',\n",
        "       'risk_score_4', 'risk_score_5']].head()"
      ]
    },
    {
      "cell_type": "markdown",
      "id": "220555ce",
      "metadata": {
        "id": "220555ce"
      },
      "source": [
        "The risk score value seems odd compared to others which could have been a mistake. It will be divided by 100000 to bring it to others level"
      ]
    },
    {
      "cell_type": "code",
      "execution_count": null,
      "id": "b38f968f",
      "metadata": {
        "id": "b38f968f"
      },
      "outputs": [],
      "source": [
        "train.risk_score = train.risk_score/100000\n",
        "test.risk_score = test.risk_score/100000"
      ]
    },
    {
      "cell_type": "markdown",
      "id": "610b7b45",
      "metadata": {
        "id": "610b7b45"
      },
      "source": [
        "Getting the average of the risk_scores might be a good one and for further exploration"
      ]
    },
    {
      "cell_type": "code",
      "execution_count": null,
      "id": "40ae858e",
      "metadata": {
        "id": "40ae858e"
      },
      "outputs": [],
      "source": [
        "train['risk_average'] = (train.risk_score + train.risk_score_2 + train.risk_score_3 + train.risk_score_4 + train.risk_score_5)/5\n",
        "\n",
        "test['risk_average'] = (test.risk_score + test.risk_score_2 + test.risk_score_3 + test.risk_score_4 + test.risk_score_5)/5"
      ]
    },
    {
      "cell_type": "markdown",
      "id": "1d08d1de",
      "metadata": {
        "id": "1d08d1de"
      },
      "source": [
        "### Checking the average risk score of the loan approved compared to the others"
      ]
    },
    {
      "cell_type": "code",
      "execution_count": null,
      "id": "17d48487",
      "metadata": {
        "id": "17d48487",
        "outputId": "0d786389-8f61-4630-f894-325fe97c6ebf",
        "colab": {
          "base_uri": "https://localhost:8080/",
          "height": 300
        }
      },
      "outputs": [
        {
          "output_type": "execute_result",
          "data": {
            "text/plain": [
              "   Entry_id  age  pay_schedule  home_owner  income  months_employed  \\\n",
              "0   7629673   40     bi-weekly           1    3135                0   \n",
              "1   5335819   33  semi-monthly           0    3590                0   \n",
              "2   8492423   21        weekly           0    2303                0   \n",
              "3   7948313   26     bi-weekly           0    2795                0   \n",
              "4   4297036   43     bi-weekly           0    5000                0   \n",
              "\n",
              "   years_employed  current_address_year  personal_account_m  \\\n",
              "0               3                     3                   6   \n",
              "1               5                     2                   2   \n",
              "2               5                     8                   2   \n",
              "3               4                     4                   1   \n",
              "4               2                     1                   1   \n",
              "\n",
              "   personal_account_y  ...  risk_score  risk_score_2  risk_score_3  \\\n",
              "0                   2  ...      0.3620      0.737398      0.903517   \n",
              "1                   8  ...      0.5385      0.617361      0.857560   \n",
              "2                   7  ...      0.7485      0.677109      0.758765   \n",
              "3                   6  ...      0.5080      0.738055      0.873204   \n",
              "4                   2  ...      0.6910      0.798303      0.841747   \n",
              "\n",
              "   risk_score_4  risk_score_5  ext_quality_score  ext_quality_score_2  \\\n",
              "0      0.487712      0.515977           0.580918             0.380918   \n",
              "1      0.613487      0.665523           0.744634             0.744634   \n",
              "2      0.495609      0.664762           0.592556             0.492556   \n",
              "3      0.666437      0.700392           0.584130             0.684130   \n",
              "4      0.401971      0.568787           0.525905             0.725905   \n",
              "\n",
              "   inquiries_last_month  e_signed  risk_average  \n",
              "0                    10         1      0.601321  \n",
              "1                    12         0      0.658486  \n",
              "2                     6         1      0.668949  \n",
              "3                    14         1      0.697218  \n",
              "4                     5         1      0.660362  \n",
              "\n",
              "[5 rows x 22 columns]"
            ],
            "text/html": [
              "\n",
              "  <div id=\"df-b4bf7ff8-bde5-47a8-9e8c-e2c3a33faaa9\">\n",
              "    <div class=\"colab-df-container\">\n",
              "      <div>\n",
              "<style scoped>\n",
              "    .dataframe tbody tr th:only-of-type {\n",
              "        vertical-align: middle;\n",
              "    }\n",
              "\n",
              "    .dataframe tbody tr th {\n",
              "        vertical-align: top;\n",
              "    }\n",
              "\n",
              "    .dataframe thead th {\n",
              "        text-align: right;\n",
              "    }\n",
              "</style>\n",
              "<table border=\"1\" class=\"dataframe\">\n",
              "  <thead>\n",
              "    <tr style=\"text-align: right;\">\n",
              "      <th></th>\n",
              "      <th>Entry_id</th>\n",
              "      <th>age</th>\n",
              "      <th>pay_schedule</th>\n",
              "      <th>home_owner</th>\n",
              "      <th>income</th>\n",
              "      <th>months_employed</th>\n",
              "      <th>years_employed</th>\n",
              "      <th>current_address_year</th>\n",
              "      <th>personal_account_m</th>\n",
              "      <th>personal_account_y</th>\n",
              "      <th>...</th>\n",
              "      <th>risk_score</th>\n",
              "      <th>risk_score_2</th>\n",
              "      <th>risk_score_3</th>\n",
              "      <th>risk_score_4</th>\n",
              "      <th>risk_score_5</th>\n",
              "      <th>ext_quality_score</th>\n",
              "      <th>ext_quality_score_2</th>\n",
              "      <th>inquiries_last_month</th>\n",
              "      <th>e_signed</th>\n",
              "      <th>risk_average</th>\n",
              "    </tr>\n",
              "  </thead>\n",
              "  <tbody>\n",
              "    <tr>\n",
              "      <th>0</th>\n",
              "      <td>7629673</td>\n",
              "      <td>40</td>\n",
              "      <td>bi-weekly</td>\n",
              "      <td>1</td>\n",
              "      <td>3135</td>\n",
              "      <td>0</td>\n",
              "      <td>3</td>\n",
              "      <td>3</td>\n",
              "      <td>6</td>\n",
              "      <td>2</td>\n",
              "      <td>...</td>\n",
              "      <td>0.3620</td>\n",
              "      <td>0.737398</td>\n",
              "      <td>0.903517</td>\n",
              "      <td>0.487712</td>\n",
              "      <td>0.515977</td>\n",
              "      <td>0.580918</td>\n",
              "      <td>0.380918</td>\n",
              "      <td>10</td>\n",
              "      <td>1</td>\n",
              "      <td>0.601321</td>\n",
              "    </tr>\n",
              "    <tr>\n",
              "      <th>1</th>\n",
              "      <td>5335819</td>\n",
              "      <td>33</td>\n",
              "      <td>semi-monthly</td>\n",
              "      <td>0</td>\n",
              "      <td>3590</td>\n",
              "      <td>0</td>\n",
              "      <td>5</td>\n",
              "      <td>2</td>\n",
              "      <td>2</td>\n",
              "      <td>8</td>\n",
              "      <td>...</td>\n",
              "      <td>0.5385</td>\n",
              "      <td>0.617361</td>\n",
              "      <td>0.857560</td>\n",
              "      <td>0.613487</td>\n",
              "      <td>0.665523</td>\n",
              "      <td>0.744634</td>\n",
              "      <td>0.744634</td>\n",
              "      <td>12</td>\n",
              "      <td>0</td>\n",
              "      <td>0.658486</td>\n",
              "    </tr>\n",
              "    <tr>\n",
              "      <th>2</th>\n",
              "      <td>8492423</td>\n",
              "      <td>21</td>\n",
              "      <td>weekly</td>\n",
              "      <td>0</td>\n",
              "      <td>2303</td>\n",
              "      <td>0</td>\n",
              "      <td>5</td>\n",
              "      <td>8</td>\n",
              "      <td>2</td>\n",
              "      <td>7</td>\n",
              "      <td>...</td>\n",
              "      <td>0.7485</td>\n",
              "      <td>0.677109</td>\n",
              "      <td>0.758765</td>\n",
              "      <td>0.495609</td>\n",
              "      <td>0.664762</td>\n",
              "      <td>0.592556</td>\n",
              "      <td>0.492556</td>\n",
              "      <td>6</td>\n",
              "      <td>1</td>\n",
              "      <td>0.668949</td>\n",
              "    </tr>\n",
              "    <tr>\n",
              "      <th>3</th>\n",
              "      <td>7948313</td>\n",
              "      <td>26</td>\n",
              "      <td>bi-weekly</td>\n",
              "      <td>0</td>\n",
              "      <td>2795</td>\n",
              "      <td>0</td>\n",
              "      <td>4</td>\n",
              "      <td>4</td>\n",
              "      <td>1</td>\n",
              "      <td>6</td>\n",
              "      <td>...</td>\n",
              "      <td>0.5080</td>\n",
              "      <td>0.738055</td>\n",
              "      <td>0.873204</td>\n",
              "      <td>0.666437</td>\n",
              "      <td>0.700392</td>\n",
              "      <td>0.584130</td>\n",
              "      <td>0.684130</td>\n",
              "      <td>14</td>\n",
              "      <td>1</td>\n",
              "      <td>0.697218</td>\n",
              "    </tr>\n",
              "    <tr>\n",
              "      <th>4</th>\n",
              "      <td>4297036</td>\n",
              "      <td>43</td>\n",
              "      <td>bi-weekly</td>\n",
              "      <td>0</td>\n",
              "      <td>5000</td>\n",
              "      <td>0</td>\n",
              "      <td>2</td>\n",
              "      <td>1</td>\n",
              "      <td>1</td>\n",
              "      <td>2</td>\n",
              "      <td>...</td>\n",
              "      <td>0.6910</td>\n",
              "      <td>0.798303</td>\n",
              "      <td>0.841747</td>\n",
              "      <td>0.401971</td>\n",
              "      <td>0.568787</td>\n",
              "      <td>0.525905</td>\n",
              "      <td>0.725905</td>\n",
              "      <td>5</td>\n",
              "      <td>1</td>\n",
              "      <td>0.660362</td>\n",
              "    </tr>\n",
              "  </tbody>\n",
              "</table>\n",
              "<p>5 rows × 22 columns</p>\n",
              "</div>\n",
              "      <button class=\"colab-df-convert\" onclick=\"convertToInteractive('df-b4bf7ff8-bde5-47a8-9e8c-e2c3a33faaa9')\"\n",
              "              title=\"Convert this dataframe to an interactive table.\"\n",
              "              style=\"display:none;\">\n",
              "        \n",
              "  <svg xmlns=\"http://www.w3.org/2000/svg\" height=\"24px\"viewBox=\"0 0 24 24\"\n",
              "       width=\"24px\">\n",
              "    <path d=\"M0 0h24v24H0V0z\" fill=\"none\"/>\n",
              "    <path d=\"M18.56 5.44l.94 2.06.94-2.06 2.06-.94-2.06-.94-.94-2.06-.94 2.06-2.06.94zm-11 1L8.5 8.5l.94-2.06 2.06-.94-2.06-.94L8.5 2.5l-.94 2.06-2.06.94zm10 10l.94 2.06.94-2.06 2.06-.94-2.06-.94-.94-2.06-.94 2.06-2.06.94z\"/><path d=\"M17.41 7.96l-1.37-1.37c-.4-.4-.92-.59-1.43-.59-.52 0-1.04.2-1.43.59L10.3 9.45l-7.72 7.72c-.78.78-.78 2.05 0 2.83L4 21.41c.39.39.9.59 1.41.59.51 0 1.02-.2 1.41-.59l7.78-7.78 2.81-2.81c.8-.78.8-2.07 0-2.86zM5.41 20L4 18.59l7.72-7.72 1.47 1.35L5.41 20z\"/>\n",
              "  </svg>\n",
              "      </button>\n",
              "      \n",
              "  <style>\n",
              "    .colab-df-container {\n",
              "      display:flex;\n",
              "      flex-wrap:wrap;\n",
              "      gap: 12px;\n",
              "    }\n",
              "\n",
              "    .colab-df-convert {\n",
              "      background-color: #E8F0FE;\n",
              "      border: none;\n",
              "      border-radius: 50%;\n",
              "      cursor: pointer;\n",
              "      display: none;\n",
              "      fill: #1967D2;\n",
              "      height: 32px;\n",
              "      padding: 0 0 0 0;\n",
              "      width: 32px;\n",
              "    }\n",
              "\n",
              "    .colab-df-convert:hover {\n",
              "      background-color: #E2EBFA;\n",
              "      box-shadow: 0px 1px 2px rgba(60, 64, 67, 0.3), 0px 1px 3px 1px rgba(60, 64, 67, 0.15);\n",
              "      fill: #174EA6;\n",
              "    }\n",
              "\n",
              "    [theme=dark] .colab-df-convert {\n",
              "      background-color: #3B4455;\n",
              "      fill: #D2E3FC;\n",
              "    }\n",
              "\n",
              "    [theme=dark] .colab-df-convert:hover {\n",
              "      background-color: #434B5C;\n",
              "      box-shadow: 0px 1px 3px 1px rgba(0, 0, 0, 0.15);\n",
              "      filter: drop-shadow(0px 1px 2px rgba(0, 0, 0, 0.3));\n",
              "      fill: #FFFFFF;\n",
              "    }\n",
              "  </style>\n",
              "\n",
              "      <script>\n",
              "        const buttonEl =\n",
              "          document.querySelector('#df-b4bf7ff8-bde5-47a8-9e8c-e2c3a33faaa9 button.colab-df-convert');\n",
              "        buttonEl.style.display =\n",
              "          google.colab.kernel.accessAllowed ? 'block' : 'none';\n",
              "\n",
              "        async function convertToInteractive(key) {\n",
              "          const element = document.querySelector('#df-b4bf7ff8-bde5-47a8-9e8c-e2c3a33faaa9');\n",
              "          const dataTable =\n",
              "            await google.colab.kernel.invokeFunction('convertToInteractive',\n",
              "                                                     [key], {});\n",
              "          if (!dataTable) return;\n",
              "\n",
              "          const docLinkHtml = 'Like what you see? Visit the ' +\n",
              "            '<a target=\"_blank\" href=https://colab.research.google.com/notebooks/data_table.ipynb>data table notebook</a>'\n",
              "            + ' to learn more about interactive tables.';\n",
              "          element.innerHTML = '';\n",
              "          dataTable['output_type'] = 'display_data';\n",
              "          await google.colab.output.renderOutput(dataTable, element);\n",
              "          const docLink = document.createElement('div');\n",
              "          docLink.innerHTML = docLinkHtml;\n",
              "          element.appendChild(docLink);\n",
              "        }\n",
              "      </script>\n",
              "    </div>\n",
              "  </div>\n",
              "  "
            ]
          },
          "metadata": {},
          "execution_count": 30
        }
      ],
      "source": [
        "train.head()"
      ]
    },
    {
      "cell_type": "code",
      "execution_count": null,
      "id": "9b082649",
      "metadata": {
        "scrolled": true,
        "colab": {
          "base_uri": "https://localhost:8080/"
        },
        "id": "9b082649",
        "outputId": "32645fc7-35bb-4952-d1b2-8ef546e1f809"
      },
      "outputs": [
        {
          "output_type": "execute_result",
          "data": {
            "text/plain": [
              "e_signed\n",
              "0    0.693592\n",
              "1    0.698511\n",
              "Name: risk_average, dtype: float64"
            ]
          },
          "metadata": {},
          "execution_count": 31
        }
      ],
      "source": [
        "train.groupby('e_signed').mean()['risk_average']"
      ]
    },
    {
      "cell_type": "markdown",
      "id": "d2d8f38c",
      "metadata": {
        "id": "d2d8f38c"
      },
      "source": [
        "There is no significant different between the average of the risk of both groups."
      ]
    },
    {
      "cell_type": "markdown",
      "id": "358d5674",
      "metadata": {
        "id": "358d5674"
      },
      "source": [
        "#### Ext Quality Score"
      ]
    },
    {
      "cell_type": "markdown",
      "id": "62f49772",
      "metadata": {
        "id": "62f49772"
      },
      "source": [
        "Finding the mean of the ext_quality_score"
      ]
    },
    {
      "cell_type": "code",
      "execution_count": null,
      "id": "1961117b",
      "metadata": {
        "id": "1961117b"
      },
      "outputs": [],
      "source": [
        "train['ext_quality_average'] = (train['ext_quality_score'] + train['ext_quality_score_2'])/2\n",
        "\n",
        "test['ext_quality_average'] = (test['ext_quality_score'] + test['ext_quality_score_2'])/2"
      ]
    },
    {
      "cell_type": "code",
      "execution_count": null,
      "id": "81da4344",
      "metadata": {
        "colab": {
          "base_uri": "https://localhost:8080/"
        },
        "id": "81da4344",
        "outputId": "7d26e0e5-b618-4c2d-89c6-03da2d1df856"
      },
      "outputs": [
        {
          "output_type": "execute_result",
          "data": {
            "text/plain": [
              "e_signed\n",
              "0    0.625758\n",
              "1    0.618673\n",
              "Name: ext_quality_average, dtype: float64"
            ]
          },
          "metadata": {},
          "execution_count": 33
        }
      ],
      "source": [
        "train.groupby('e_signed').mean()['ext_quality_average']"
      ]
    },
    {
      "cell_type": "markdown",
      "id": "3eb95f24",
      "metadata": {
        "id": "3eb95f24"
      },
      "source": [
        "There is also no significant difference between the approved and rejected ext_quality average."
      ]
    },
    {
      "cell_type": "markdown",
      "id": "222004c5",
      "metadata": {
        "id": "222004c5"
      },
      "source": [
        "#### Inquiries Last Month"
      ]
    },
    {
      "cell_type": "code",
      "execution_count": null,
      "id": "054317d2",
      "metadata": {
        "colab": {
          "base_uri": "https://localhost:8080/"
        },
        "id": "054317d2",
        "outputId": "0896a34a-e88e-49e1-9983-87e4fd61750e"
      },
      "outputs": [
        {
          "output_type": "execute_result",
          "data": {
            "text/plain": [
              "6     2065\n",
              "5     1937\n",
              "4     1683\n",
              "3     1283\n",
              "7     1230\n",
              "8      918\n",
              "2      880\n",
              "9      610\n",
              "10     489\n",
              "11     352\n",
              "12     234\n",
              "13     186\n",
              "14     132\n",
              "15     105\n",
              "16      81\n",
              "17      58\n",
              "18      52\n",
              "19      49\n",
              "20      31\n",
              "21      31\n",
              "22      23\n",
              "24      16\n",
              "23      14\n",
              "26      14\n",
              "27      12\n",
              "25       9\n",
              "28       9\n",
              "1        6\n",
              "29       4\n",
              "30       3\n",
              "Name: inquiries_last_month, dtype: int64"
            ]
          },
          "metadata": {},
          "execution_count": 34
        }
      ],
      "source": [
        "train.inquiries_last_month.value_counts()"
      ]
    },
    {
      "cell_type": "code",
      "execution_count": null,
      "id": "7cd59458",
      "metadata": {
        "id": "7cd59458",
        "outputId": "3da44ba5-aca7-4a70-b7d5-0b03ab6cb18f",
        "colab": {
          "base_uri": "https://localhost:8080/",
          "height": 351
        }
      },
      "outputs": [
        {
          "output_type": "display_data",
          "data": {
            "text/plain": [
              "<Figure size 720x360 with 2 Axes>"
            ],
            "image/png": "[encoded data removed]"
          },
          "metadata": {
            "needs_background": "light"
          }
        }
      ],
      "source": [
        "countplot('inquiries_last_month')"
      ]
    },
    {
      "cell_type": "code",
      "execution_count": null,
      "id": "fc78d656",
      "metadata": {
        "id": "fc78d656",
        "outputId": "68b54b42-6b97-4a17-dfee-31091ab6fc18",
        "colab": {
          "base_uri": "https://localhost:8080/"
        }
      },
      "outputs": [
        {
          "output_type": "execute_result",
          "data": {
            "text/plain": [
              "e_signed\n",
              "0    6.622609\n",
              "1    6.384866\n",
              "Name: inquiries_last_month, dtype: float64"
            ]
          },
          "metadata": {},
          "execution_count": 36
        }
      ],
      "source": [
        "train.groupby('e_signed').mean()['inquiries_last_month']"
      ]
    },
    {
      "cell_type": "markdown",
      "id": "f683a619",
      "metadata": {
        "id": "f683a619"
      },
      "source": [
        " For both cases the average number on inquiries in the previous month is 6 to 7 times."
      ]
    },
    {
      "cell_type": "markdown",
      "source": [
        "## Data Preprocessing"
      ],
      "metadata": {
        "id": "vvXHgaB2z83j"
      },
      "id": "vvXHgaB2z83j"
    },
    {
      "cell_type": "code",
      "source": [
        "train['sum_risk_score'] = (train['risk_score'] + train['risk_score_2'] + train['risk_score_3'] + train['risk_score_4'] + train['risk_score_5']).abs()\n",
        "# train['mean_risk_score'] = train['sum_risk_score']/5\n",
        "\n",
        "train['sum_ext_quality_score'] = (train['ext_quality_score'] + train['ext_quality_score_2']).abs()\n",
        "# train['mean_ext_quality_score'] = train[['ext_quality_score', 'ext_quality_score_2']].mean(axis = 1)\n",
        "train['diff_ext_quality_score'] = (train['ext_quality_score'] - train['ext_quality_score_2']).abs()"
      ],
      "metadata": {
        "id": "XVeH0mTvz7tt"
      },
      "id": "XVeH0mTvz7tt",
      "execution_count": null,
      "outputs": []
    },
    {
      "cell_type": "code",
      "source": [
        "test['sum_risk_score'] = (test['risk_score'] + test['risk_score_2'] + test['risk_score_3'] + test['risk_score_4'] + test['risk_score_5']).abs()\n",
        "# test['mean_risk_score'] = test['sum_risk_score'] / 5\n",
        "\n",
        "test['diff_ext_quality_score'] = (test['ext_quality_score'] - test['ext_quality_score_2']).abs()\n",
        "test['sum_ext_quality_score'] = (test['ext_quality_score'] + test['ext_quality_score_2']).abs()\n",
        "# test['mean_ext_quality_score'] = test['sum_ext_quality_score'] / 2"
      ],
      "metadata": {
        "id": "BWn6q0tz1JLN"
      },
      "id": "BWn6q0tz1JLN",
      "execution_count": null,
      "outputs": []
    },
    {
      "cell_type": "code",
      "source": [
        "train['ext_quality_score_std'] = train[['ext_quality_score', 'ext_quality_score_2']].std(axis = 1)\n",
        "test['ext_quality_score_std'] = test[['ext_quality_score', 'ext_quality_score_2']].std(axis = 1)"
      ],
      "metadata": {
        "id": "E4vxcr8i1T63"
      },
      "id": "E4vxcr8i1T63",
      "execution_count": null,
      "outputs": []
    },
    {
      "cell_type": "code",
      "source": [
        "train['income_age'] = train['income'] / train['age']\n",
        "train['ammount_age'] = train['amount_requested'] / train['age']\n",
        "train['amount_income'] = train['amount_requested']/ train['income']\n",
        "train['personal_account_m_y'] = train['personal_account_y'] - train['personal_account_m']\n",
        "train['work_year'] = train['income'] / train['years_employed']"
      ],
      "metadata": {
        "id": "INIhw9JX1TyF"
      },
      "id": "INIhw9JX1TyF",
      "execution_count": null,
      "outputs": []
    },
    {
      "cell_type": "code",
      "source": [
        "test['income_age'] = test['income'] / test['age']\n",
        "test['ammount_age'] = test['amount_requested'] / test['age']\n",
        "test['amount_income'] = test['amount_requested']/ test['income']\n",
        "test['personal_account_m_y'] = test['personal_account_y'] - test['personal_account_m']\n",
        "test['work_year'] = test['income'] / test['years_employed']"
      ],
      "metadata": {
        "id": "WkJoUXGH1Tkb"
      },
      "id": "WkJoUXGH1Tkb",
      "execution_count": null,
      "outputs": []
    },
    {
      "cell_type": "code",
      "source": [
        "test = test.drop('Entry_id', axis=1)\n",
        "train = train.drop('Entry_id', axis=1)"
      ],
      "metadata": {
        "id": "5iRNipXI1TbQ"
      },
      "id": "5iRNipXI1TbQ",
      "execution_count": null,
      "outputs": []
    },
    {
      "cell_type": "code",
      "source": [
        "train = train.join(pd.get_dummies(train.pay_schedule))\n",
        "test = test.join(pd.get_dummies(test.pay_schedule))"
      ],
      "metadata": {
        "id": "BmaKK94O1TLJ"
      },
      "id": "BmaKK94O1TLJ",
      "execution_count": null,
      "outputs": []
    },
    {
      "cell_type": "code",
      "source": [
        "train.isnull().sum()"
      ],
      "metadata": {
        "colab": {
          "base_uri": "https://localhost:8080/"
        },
        "id": "DDrjGOwb1S4z",
        "outputId": "3f4fdb11-7cd2-49c0-83ab-256ee601b0d6"
      },
      "id": "DDrjGOwb1S4z",
      "execution_count": null,
      "outputs": [
        {
          "output_type": "execute_result",
          "data": {
            "text/plain": [
              "age                       0\n",
              "pay_schedule              0\n",
              "home_owner                0\n",
              "income                    0\n",
              "months_employed           0\n",
              "years_employed            0\n",
              "current_address_year      0\n",
              "personal_account_m        0\n",
              "personal_account_y        0\n",
              "has_debt                  0\n",
              "amount_requested          0\n",
              "risk_score                0\n",
              "risk_score_2              0\n",
              "risk_score_3              0\n",
              "risk_score_4              0\n",
              "risk_score_5              0\n",
              "ext_quality_score         0\n",
              "ext_quality_score_2       0\n",
              "inquiries_last_month      0\n",
              "e_signed                  0\n",
              "risk_average              0\n",
              "ext_quality_average       0\n",
              "sum_risk_score            0\n",
              "sum_ext_quality_score     0\n",
              "diff_ext_quality_score    0\n",
              "ext_quality_score_std     0\n",
              "income_age                0\n",
              "ammount_age               0\n",
              "amount_income             0\n",
              "personal_account_m_y      0\n",
              "work_year                 0\n",
              "bi-weekly                 0\n",
              "monthly                   0\n",
              "semi-monthly              0\n",
              "weekly                    0\n",
              "dtype: int64"
            ]
          },
          "metadata": {},
          "execution_count": 44
        }
      ]
    },
    {
      "cell_type": "code",
      "source": [
        "train.shape"
      ],
      "metadata": {
        "colab": {
          "base_uri": "https://localhost:8080/"
        },
        "id": "izwvueys2nDe",
        "outputId": "b574e2fc-df91-47f8-8da0-be5fbce7a916"
      },
      "id": "izwvueys2nDe",
      "execution_count": null,
      "outputs": [
        {
          "output_type": "execute_result",
          "data": {
            "text/plain": [
              "(12516, 35)"
            ]
          },
          "metadata": {},
          "execution_count": 45
        }
      ]
    },
    {
      "cell_type": "code",
      "source": [
        "test.shape"
      ],
      "metadata": {
        "colab": {
          "base_uri": "https://localhost:8080/"
        },
        "id": "WpKFGoUB2oDr",
        "outputId": "b9358105-bc73-4e61-9d45-2c77779ab9ae"
      },
      "id": "WpKFGoUB2oDr",
      "execution_count": null,
      "outputs": [
        {
          "output_type": "execute_result",
          "data": {
            "text/plain": [
              "(5392, 34)"
            ]
          },
          "metadata": {},
          "execution_count": 46
        }
      ]
    },
    {
      "cell_type": "code",
      "source": [
        "test.columns"
      ],
      "metadata": {
        "colab": {
          "base_uri": "https://localhost:8080/"
        },
        "id": "QaZRkQxC2u47",
        "outputId": "8b40754c-96d3-49cb-bcb1-f276a4169907"
      },
      "id": "QaZRkQxC2u47",
      "execution_count": null,
      "outputs": [
        {
          "output_type": "execute_result",
          "data": {
            "text/plain": [
              "Index(['age', 'pay_schedule', 'home_owner', 'income', 'months_employed',\n",
              "       'years_employed', 'current_address_year', 'personal_account_m',\n",
              "       'personal_account_y', 'has_debt', 'amount_requested', 'risk_score',\n",
              "       'risk_score_2', 'risk_score_3', 'risk_score_4', 'risk_score_5',\n",
              "       'ext_quality_score', 'ext_quality_score_2', 'inquiries_last_month',\n",
              "       'risk_average', 'ext_quality_average', 'sum_risk_score',\n",
              "       'diff_ext_quality_score', 'sum_ext_quality_score',\n",
              "       'ext_quality_score_std', 'income_age', 'ammount_age', 'amount_income',\n",
              "       'personal_account_m_y', 'work_year', 'bi-weekly', 'monthly',\n",
              "       'semi-monthly', 'weekly'],\n",
              "      dtype='object')"
            ]
          },
          "metadata": {},
          "execution_count": 47
        }
      ]
    },
    {
      "cell_type": "code",
      "source": [
        "to_drop = ['risk_score',\n",
        "       'risk_score_2', 'risk_score_3', 'risk_score_4', 'risk_score_5',\n",
        "       'ext_quality_score', 'ext_quality_score_2', 'pay_schedule']"
      ],
      "metadata": {
        "id": "UE16IC3k20Vx"
      },
      "id": "UE16IC3k20Vx",
      "execution_count": null,
      "outputs": []
    },
    {
      "cell_type": "code",
      "source": [
        "test = test.drop(to_drop, axis = 1)\n",
        "train = train.drop(to_drop, axis = 1)"
      ],
      "metadata": {
        "id": "bQpcWpfb21k6"
      },
      "id": "bQpcWpfb21k6",
      "execution_count": null,
      "outputs": []
    },
    {
      "cell_type": "code",
      "source": [
        "print(train.shape)\n",
        "print(test.shape)"
      ],
      "metadata": {
        "colab": {
          "base_uri": "https://localhost:8080/"
        },
        "id": "1gqyBbb52-Dh",
        "outputId": "da1626dd-e497-4120-ca40-d45d0137f698"
      },
      "id": "1gqyBbb52-Dh",
      "execution_count": null,
      "outputs": [
        {
          "output_type": "stream",
          "name": "stdout",
          "text": [
            "(12516, 27)\n",
            "(5392, 26)\n"
          ]
        }
      ]
    },
    {
      "cell_type": "code",
      "source": [
        "train.head()"
      ],
      "metadata": {
        "colab": {
          "base_uri": "https://localhost:8080/",
          "height": 317
        },
        "id": "qr2aAbL73Cjb",
        "outputId": "be3a100a-dc8a-432d-a199-084025e1f5b0"
      },
      "id": "qr2aAbL73Cjb",
      "execution_count": null,
      "outputs": [
        {
          "output_type": "execute_result",
          "data": {
            "text/plain": [
              "   Entry_id  age  home_owner  income  months_employed  years_employed  \\\n",
              "0   7629673   40           1    3135                0               3   \n",
              "1   5335819   33           0    3590                0               5   \n",
              "2   8492423   21           0    2303                0               5   \n",
              "3   7948313   26           0    2795                0               4   \n",
              "4   4297036   43           0    5000                0               2   \n",
              "\n",
              "   current_address_year  personal_account_m  personal_account_y  has_debt  \\\n",
              "0                     3                   6                   2         1   \n",
              "1                     2                   2                   8         1   \n",
              "2                     8                   2                   7         1   \n",
              "3                     4                   1                   6         1   \n",
              "4                     1                   1                   2         1   \n",
              "\n",
              "   ...  ext_quality_score_std  income_age  ammount_age  amount_income  \\\n",
              "0  ...               0.141421   78.375000    13.750000       0.175439   \n",
              "1  ...               0.000000  108.787879    33.333333       0.306407   \n",
              "2  ...               0.070711  109.666667    28.571429       0.260530   \n",
              "3  ...               0.070711  107.500000    30.769231       0.286225   \n",
              "4  ...               0.141421  116.279070    25.581395       0.220000   \n",
              "\n",
              "   personal_account_m_y  work_year  bi-weekly  monthly  semi-monthly  weekly  \n",
              "0                    -4    1045.00          1        0             0       0  \n",
              "1                     6     718.00          0        0             1       0  \n",
              "2                     5     460.60          0        0             0       1  \n",
              "3                     5     698.75          1        0             0       0  \n",
              "4                     1    2500.00          1        0             0       0  \n",
              "\n",
              "[5 rows x 28 columns]"
            ],
            "text/html": [
              "\n",
              "  <div id=\"df-4731f7f3-e70a-4920-a7a3-087f9286c81b\">\n",
              "    <div class=\"colab-df-container\">\n",
              "      <div>\n",
              "<style scoped>\n",
              "    .dataframe tbody tr th:only-of-type {\n",
              "        vertical-align: middle;\n",
              "    }\n",
              "\n",
              "    .dataframe tbody tr th {\n",
              "        vertical-align: top;\n",
              "    }\n",
              "\n",
              "    .dataframe thead th {\n",
              "        text-align: right;\n",
              "    }\n",
              "</style>\n",
              "<table border=\"1\" class=\"dataframe\">\n",
              "  <thead>\n",
              "    <tr style=\"text-align: right;\">\n",
              "      <th></th>\n",
              "      <th>Entry_id</th>\n",
              "      <th>age</th>\n",
              "      <th>home_owner</th>\n",
              "      <th>income</th>\n",
              "      <th>months_employed</th>\n",
              "      <th>years_employed</th>\n",
              "      <th>current_address_year</th>\n",
              "      <th>personal_account_m</th>\n",
              "      <th>personal_account_y</th>\n",
              "      <th>has_debt</th>\n",
              "      <th>...</th>\n",
              "      <th>ext_quality_score_std</th>\n",
              "      <th>income_age</th>\n",
              "      <th>ammount_age</th>\n",
              "      <th>amount_income</th>\n",
              "      <th>personal_account_m_y</th>\n",
              "      <th>work_year</th>\n",
              "      <th>bi-weekly</th>\n",
              "      <th>monthly</th>\n",
              "      <th>semi-monthly</th>\n",
              "      <th>weekly</th>\n",
              "    </tr>\n",
              "  </thead>\n",
              "  <tbody>\n",
              "    <tr>\n",
              "      <th>0</th>\n",
              "      <td>7629673</td>\n",
              "      <td>40</td>\n",
              "      <td>1</td>\n",
              "      <td>3135</td>\n",
              "      <td>0</td>\n",
              "      <td>3</td>\n",
              "      <td>3</td>\n",
              "      <td>6</td>\n",
              "      <td>2</td>\n",
              "      <td>1</td>\n",
              "      <td>...</td>\n",
              "      <td>0.141421</td>\n",
              "      <td>78.375000</td>\n",
              "      <td>13.750000</td>\n",
              "      <td>0.175439</td>\n",
              "      <td>-4</td>\n",
              "      <td>1045.00</td>\n",
              "      <td>1</td>\n",
              "      <td>0</td>\n",
              "      <td>0</td>\n",
              "      <td>0</td>\n",
              "    </tr>\n",
              "    <tr>\n",
              "      <th>1</th>\n",
              "      <td>5335819</td>\n",
              "      <td>33</td>\n",
              "      <td>0</td>\n",
              "      <td>3590</td>\n",
              "      <td>0</td>\n",
              "      <td>5</td>\n",
              "      <td>2</td>\n",
              "      <td>2</td>\n",
              "      <td>8</td>\n",
              "      <td>1</td>\n",
              "      <td>...</td>\n",
              "      <td>0.000000</td>\n",
              "      <td>108.787879</td>\n",
              "      <td>33.333333</td>\n",
              "      <td>0.306407</td>\n",
              "      <td>6</td>\n",
              "      <td>718.00</td>\n",
              "      <td>0</td>\n",
              "      <td>0</td>\n",
              "      <td>1</td>\n",
              "      <td>0</td>\n",
              "    </tr>\n",
              "    <tr>\n",
              "      <th>2</th>\n",
              "      <td>8492423</td>\n",
              "      <td>21</td>\n",
              "      <td>0</td>\n",
              "      <td>2303</td>\n",
              "      <td>0</td>\n",
              "      <td>5</td>\n",
              "      <td>8</td>\n",
              "      <td>2</td>\n",
              "      <td>7</td>\n",
              "      <td>1</td>\n",
              "      <td>...</td>\n",
              "      <td>0.070711</td>\n",
              "      <td>109.666667</td>\n",
              "      <td>28.571429</td>\n",
              "      <td>0.260530</td>\n",
              "      <td>5</td>\n",
              "      <td>460.60</td>\n",
              "      <td>0</td>\n",
              "      <td>0</td>\n",
              "      <td>0</td>\n",
              "      <td>1</td>\n",
              "    </tr>\n",
              "    <tr>\n",
              "      <th>3</th>\n",
              "      <td>7948313</td>\n",
              "      <td>26</td>\n",
              "      <td>0</td>\n",
              "      <td>2795</td>\n",
              "      <td>0</td>\n",
              "      <td>4</td>\n",
              "      <td>4</td>\n",
              "      <td>1</td>\n",
              "      <td>6</td>\n",
              "      <td>1</td>\n",
              "      <td>...</td>\n",
              "      <td>0.070711</td>\n",
              "      <td>107.500000</td>\n",
              "      <td>30.769231</td>\n",
              "      <td>0.286225</td>\n",
              "      <td>5</td>\n",
              "      <td>698.75</td>\n",
              "      <td>1</td>\n",
              "      <td>0</td>\n",
              "      <td>0</td>\n",
              "      <td>0</td>\n",
              "    </tr>\n",
              "    <tr>\n",
              "      <th>4</th>\n",
              "      <td>4297036</td>\n",
              "      <td>43</td>\n",
              "      <td>0</td>\n",
              "      <td>5000</td>\n",
              "      <td>0</td>\n",
              "      <td>2</td>\n",
              "      <td>1</td>\n",
              "      <td>1</td>\n",
              "      <td>2</td>\n",
              "      <td>1</td>\n",
              "      <td>...</td>\n",
              "      <td>0.141421</td>\n",
              "      <td>116.279070</td>\n",
              "      <td>25.581395</td>\n",
              "      <td>0.220000</td>\n",
              "      <td>1</td>\n",
              "      <td>2500.00</td>\n",
              "      <td>1</td>\n",
              "      <td>0</td>\n",
              "      <td>0</td>\n",
              "      <td>0</td>\n",
              "    </tr>\n",
              "  </tbody>\n",
              "</table>\n",
              "<p>5 rows × 28 columns</p>\n",
              "</div>\n",
              "      <button class=\"colab-df-convert\" onclick=\"convertToInteractive('df-4731f7f3-e70a-4920-a7a3-087f9286c81b')\"\n",
              "              title=\"Convert this dataframe to an interactive table.\"\n",
              "              style=\"display:none;\">\n",
              "        \n",
              "  <svg xmlns=\"http://www.w3.org/2000/svg\" height=\"24px\"viewBox=\"0 0 24 24\"\n",
              "       width=\"24px\">\n",
              "    <path d=\"M0 0h24v24H0V0z\" fill=\"none\"/>\n",
              "    <path d=\"M18.56 5.44l.94 2.06.94-2.06 2.06-.94-2.06-.94-.94-2.06-.94 2.06-2.06.94zm-11 1L8.5 8.5l.94-2.06 2.06-.94-2.06-.94L8.5 2.5l-.94 2.06-2.06.94zm10 10l.94 2.06.94-2.06 2.06-.94-2.06-.94-.94-2.06-.94 2.06-2.06.94z\"/><path d=\"M17.41 7.96l-1.37-1.37c-.4-.4-.92-.59-1.43-.59-.52 0-1.04.2-1.43.59L10.3 9.45l-7.72 7.72c-.78.78-.78 2.05 0 2.83L4 21.41c.39.39.9.59 1.41.59.51 0 1.02-.2 1.41-.59l7.78-7.78 2.81-2.81c.8-.78.8-2.07 0-2.86zM5.41 20L4 18.59l7.72-7.72 1.47 1.35L5.41 20z\"/>\n",
              "  </svg>\n",
              "      </button>\n",
              "      \n",
              "  <style>\n",
              "    .colab-df-container {\n",
              "      display:flex;\n",
              "      flex-wrap:wrap;\n",
              "      gap: 12px;\n",
              "    }\n",
              "\n",
              "    .colab-df-convert {\n",
              "      background-color: #E8F0FE;\n",
              "      border: none;\n",
              "      border-radius: 50%;\n",
              "      cursor: pointer;\n",
              "      display: none;\n",
              "      fill: #1967D2;\n",
              "      height: 32px;\n",
              "      padding: 0 0 0 0;\n",
              "      width: 32px;\n",
              "    }\n",
              "\n",
              "    .colab-df-convert:hover {\n",
              "      background-color: #E2EBFA;\n",
              "      box-shadow: 0px 1px 2px rgba(60, 64, 67, 0.3), 0px 1px 3px 1px rgba(60, 64, 67, 0.15);\n",
              "      fill: #174EA6;\n",
              "    }\n",
              "\n",
              "    [theme=dark] .colab-df-convert {\n",
              "      background-color: #3B4455;\n",
              "      fill: #D2E3FC;\n",
              "    }\n",
              "\n",
              "    [theme=dark] .colab-df-convert:hover {\n",
              "      background-color: #434B5C;\n",
              "      box-shadow: 0px 1px 3px 1px rgba(0, 0, 0, 0.15);\n",
              "      filter: drop-shadow(0px 1px 2px rgba(0, 0, 0, 0.3));\n",
              "      fill: #FFFFFF;\n",
              "    }\n",
              "  </style>\n",
              "\n",
              "      <script>\n",
              "        const buttonEl =\n",
              "          document.querySelector('#df-4731f7f3-e70a-4920-a7a3-087f9286c81b button.colab-df-convert');\n",
              "        buttonEl.style.display =\n",
              "          google.colab.kernel.accessAllowed ? 'block' : 'none';\n",
              "\n",
              "        async function convertToInteractive(key) {\n",
              "          const element = document.querySelector('#df-4731f7f3-e70a-4920-a7a3-087f9286c81b');\n",
              "          const dataTable =\n",
              "            await google.colab.kernel.invokeFunction('convertToInteractive',\n",
              "                                                     [key], {});\n",
              "          if (!dataTable) return;\n",
              "\n",
              "          const docLinkHtml = 'Like what you see? Visit the ' +\n",
              "            '<a target=\"_blank\" href=https://colab.research.google.com/notebooks/data_table.ipynb>data table notebook</a>'\n",
              "            + ' to learn more about interactive tables.';\n",
              "          element.innerHTML = '';\n",
              "          dataTable['output_type'] = 'display_data';\n",
              "          await google.colab.output.renderOutput(dataTable, element);\n",
              "          const docLink = document.createElement('div');\n",
              "          docLink.innerHTML = docLinkHtml;\n",
              "          element.appendChild(docLink);\n",
              "        }\n",
              "      </script>\n",
              "    </div>\n",
              "  </div>\n",
              "  "
            ]
          },
          "metadata": {},
          "execution_count": 45
        }
      ]
    },
    {
      "cell_type": "markdown",
      "source": [
        "## Modelling\n"
      ],
      "metadata": {
        "id": "-O7eX10E4czJ"
      },
      "id": "-O7eX10E4czJ"
    },
    {
      "cell_type": "code",
      "source": [
        "x = train.drop('e_signed', axis = 1)\n",
        "y = train['e_signed']"
      ],
      "metadata": {
        "id": "ilrIIhki3CQi"
      },
      "id": "ilrIIhki3CQi",
      "execution_count": null,
      "outputs": []
    },
    {
      "cell_type": "markdown",
      "source": [
        "#### Catboost"
      ],
      "metadata": {
        "id": "iKdnLlEh4sDq"
      },
      "id": "iKdnLlEh4sDq"
    },
    {
      "cell_type": "code",
      "source": [
        "x_train, x_test, y_train, y_test = train_test_split(x, y, test_size = 0.2) "
      ],
      "metadata": {
        "id": "ED6PReGZ3B8U"
      },
      "id": "ED6PReGZ3B8U",
      "execution_count": null,
      "outputs": []
    },
    {
      "cell_type": "code",
      "source": [
        "import catboost as ctb\n",
        "ct_mod = ctb.CatBoostClassifier(n_estimators=5000, learning_rate=0.01)\n",
        "ct_mod.fit(x_train, y_train)"
      ],
      "metadata": {
        "id": "TQ8sO6Fp44j_"
      },
      "id": "TQ8sO6Fp44j_",
      "execution_count": null,
      "outputs": []
    },
    {
      "cell_type": "code",
      "source": [
        "def evaluate(model):\n",
        "    y_pred = model.predict(x_test)\n",
        "    print(f\"The accuracy score of the {type(model).__name__} is {round(accuracy_score(y_test, y_pred) * 100)}%\\n\")\n",
        "    print(f\"The F1 score of the {type(model).__name__} is {round(f1_score(y_test, y_pred, average='macro') * 100)}%\\n\")\n",
        "    print(f'The roc auc score is {roc_auc_score(y_test, model.predict_proba(x_test)[:, 1])}')"
      ],
      "metadata": {
        "id": "VgfihTyk5EyN"
      },
      "id": "VgfihTyk5EyN",
      "execution_count": null,
      "outputs": []
    },
    {
      "cell_type": "markdown",
      "source": [
        "#### lightgbm"
      ],
      "metadata": {
        "id": "Er22kJBP5pLV"
      },
      "id": "Er22kJBP5pLV"
    },
    {
      "cell_type": "code",
      "source": [
        "# from lightgbm import LGBMClassifier\n",
        "lb = LGBMClassifier(learning_rate= 0.01, n_estimators=1000)\n",
        "lb.fit(x_train, y_train)"
      ],
      "metadata": {
        "colab": {
          "base_uri": "https://localhost:8080/"
        },
        "id": "B91LnPtw5m1X",
        "outputId": "79149dec-5b7d-41be-9201-a7385ca2dde5"
      },
      "id": "B91LnPtw5m1X",
      "execution_count": null,
      "outputs": [
        {
          "output_type": "execute_result",
          "data": {
            "text/plain": [
              "LGBMClassifier(learning_rate=0.01, n_estimators=1000)"
            ]
          },
          "metadata": {},
          "execution_count": 54
        }
      ]
    },
    {
      "cell_type": "code",
      "source": [
        "evaluate(lb)"
      ],
      "metadata": {
        "colab": {
          "base_uri": "https://localhost:8080/"
        },
        "id": "x1K9YF6x5umz",
        "outputId": "40bd4c59-a281-4864-c670-a9f1186b5ec3"
      },
      "id": "x1K9YF6x5umz",
      "execution_count": null,
      "outputs": [
        {
          "output_type": "stream",
          "name": "stdout",
          "text": [
            "The accuracy score of the LGBMClassifier is 62%\n",
            "\n",
            "The F1 score of the LGBMClassifier is 62%\n",
            "\n",
            "The roc auc score is 0.6758070560797828\n"
          ]
        }
      ]
    },
    {
      "cell_type": "code",
      "source": [
        "evaluate(ct_mod)"
      ],
      "metadata": {
        "colab": {
          "base_uri": "https://localhost:8080/"
        },
        "id": "LyuPChgm5336",
        "outputId": "b604d048-ca71-488e-a0b6-c2747ff659e8"
      },
      "id": "LyuPChgm5336",
      "execution_count": null,
      "outputs": [
        {
          "output_type": "stream",
          "name": "stdout",
          "text": [
            "The accuracy score of the CatBoostClassifier is 62%\n",
            "\n",
            "The F1 score of the CatBoostClassifier is 61%\n",
            "\n",
            "The roc auc score is 0.6725093419163898\n"
          ]
        }
      ]
    },
    {
      "cell_type": "code",
      "source": [
        "plt.barh(x.columns, ct_mod.feature_importances_)\n",
        "plt.title(\"Contribution Of Each Feature (CatBoost)\")\n",
        "plt.show()"
      ],
      "metadata": {
        "colab": {
          "base_uri": "https://localhost:8080/",
          "height": 281
        },
        "id": "VtaFt-uR59of",
        "outputId": "3efaa3ff-c671-446b-b53e-a4121528c4f8"
      },
      "id": "VtaFt-uR59of",
      "execution_count": null,
      "outputs": [
        {
          "output_type": "display_data",
          "data": {
            "text/plain": [
              "<Figure size 432x288 with 1 Axes>"
            ],
            "image/png": "[encoded data removed]"
          },
          "metadata": {
            "needs_background": "light"
          }
        }
      ]
    },
    {
      "cell_type": "code",
      "source": [
        "pred = ct_mod.predict_proba(test)[:,1]\n",
        "pred.sum()"
      ],
      "metadata": {
        "colab": {
          "base_uri": "https://localhost:8080/"
        },
        "id": "-hIRkI1L6Ksy",
        "outputId": "e464ddd2-0b32-473f-a8f9-b01c5c0fd29c"
      },
      "id": "-hIRkI1L6Ksy",
      "execution_count": null,
      "outputs": [
        {
          "output_type": "execute_result",
          "data": {
            "text/plain": [
              "2907.6405842650156"
            ]
          },
          "metadata": {},
          "execution_count": 60
        }
      ]
    },
    {
      "cell_type": "code",
      "source": [
        "entry = pd.read_csv('test.csv')['Entry_id']\n",
        "sub = pd.DataFrame({'Entry_id':entry, 'e_signed':pred})\n",
        "sub.to_csv('ola2.csv', index = False)"
      ],
      "metadata": {
        "id": "WAL_lrIn7C2y"
      },
      "id": "WAL_lrIn7C2y",
      "execution_count": null,
      "outputs": []
    },
    {
      "cell_type": "markdown",
      "source": [
        "#### KFOLD"
      ],
      "metadata": {
        "id": "j3Q08Ohc7Uil"
      },
      "id": "j3Q08Ohc7Uil"
    },
    {
      "cell_type": "code",
      "source": [
        "X = x.copy()"
      ],
      "metadata": {
        "id": "ZPV_aFZN7-wQ"
      },
      "id": "ZPV_aFZN7-wQ",
      "execution_count": null,
      "outputs": []
    },
    {
      "cell_type": "code",
      "source": [
        "from sklearn.model_selection import KFold"
      ],
      "metadata": {
        "id": "j8QfGPqK7MP2"
      },
      "id": "j8QfGPqK7MP2",
      "execution_count": null,
      "outputs": []
    },
    {
      "cell_type": "code",
      "source": [
        "def evaluate(model, x_test, y_test):\n",
        "    y_pred = model.predict(x_test)\n",
        "    \n",
        "    print(f\"The accuracy score of the {type(model).__name__} is {round(accuracy_score(y_test, y_pred) * 100)}\")\n",
        "    print(f\"The F1 score of the {type(model).__name__} is {round(f1_score(y_test, y_pred, average='macro') * 100)}\")\n",
        "    print('AUC', roc_auc_score(y_test, model.predict_proba(x_test)[:, 1]))"
      ],
      "metadata": {
        "id": "P1Pfxvnd7mlH"
      },
      "id": "P1Pfxvnd7mlH",
      "execution_count": null,
      "outputs": []
    },
    {
      "cell_type": "code",
      "source": [
        "kf = KFold(n_splits=5,random_state=43,shuffle=True)\n",
        "# cat_scores = []\n",
        "# cat_proba = []\n",
        "cat_pred = np.zeros(len(test))\n",
        "thresh = 0.4\n",
        "for fold,(tr_in,te_in) in enumerate(kf.split(X,y)):\n",
        "    print(\"================================Fold{fold}====================================\".format(fold=fold))\n",
        "    X_train,X_test = X.iloc[tr_in],X.iloc[te_in]\n",
        "    y_train,y_test = y.iloc[tr_in],y.iloc[te_in]\n",
        "\n",
        "    cat = CatBoostClassifier(n_estimators= 5000, verbose =1000,random_state=7)\n",
        "    cat.fit(X_train,y_train)\n",
        "    evaluate(cat, X_test, y_test)\n",
        "    \n",
        "    cat_pred += cat.predict_proba(test)[:,1]"
      ],
      "metadata": {
        "colab": {
          "base_uri": "https://localhost:8080/"
        },
        "id": "Jy6KLQqz7zhP",
        "outputId": "85c1d3f8-3577-460f-b352-18c76f10ae40"
      },
      "id": "Jy6KLQqz7zhP",
      "execution_count": null,
      "outputs": [
        {
          "output_type": "stream",
          "name": "stdout",
          "text": [
            "================================Fold0====================================\n",
            "Learning rate set to 0.006298\n",
            "0:\tlearn: 0.6927044\ttotal: 8.14ms\tremaining: 40.7s\n",
            "1000:\tlearn: 0.6082683\ttotal: 7.1s\tremaining: 28.4s\n",
            "2000:\tlearn: 0.5688986\ttotal: 14.2s\tremaining: 21.3s\n",
            "3000:\tlearn: 0.5338588\ttotal: 21.3s\tremaining: 14.2s\n",
            "4000:\tlearn: 0.5044254\ttotal: 28.4s\tremaining: 7.1s\n",
            "4999:\tlearn: 0.4783467\ttotal: 36.2s\tremaining: 0us\n",
            "The accuracy score of the CatBoostClassifier is 62\n",
            "The F1 score of the CatBoostClassifier is 62\n",
            "AUC 0.6780534326632843\n",
            "================================Fold1====================================\n",
            "Learning rate set to 0.006298\n",
            "0:\tlearn: 0.6927757\ttotal: 7.81ms\tremaining: 39s\n",
            "1000:\tlearn: 0.6081128\ttotal: 7.13s\tremaining: 28.5s\n",
            "2000:\tlearn: 0.5673833\ttotal: 14.3s\tremaining: 21.5s\n",
            "3000:\tlearn: 0.5315610\ttotal: 22.8s\tremaining: 15.2s\n",
            "4000:\tlearn: 0.5014271\ttotal: 30s\tremaining: 7.49s\n",
            "4999:\tlearn: 0.4749392\ttotal: 37.4s\tremaining: 0us\n",
            "The accuracy score of the CatBoostClassifier is 61\n",
            "The F1 score of the CatBoostClassifier is 60\n",
            "AUC 0.6679623841372822\n",
            "================================Fold2====================================\n",
            "Learning rate set to 0.006298\n",
            "0:\tlearn: 0.6926668\ttotal: 8.66ms\tremaining: 43.3s\n",
            "1000:\tlearn: 0.6074907\ttotal: 7.48s\tremaining: 29.9s\n",
            "2000:\tlearn: 0.5669950\ttotal: 14.8s\tremaining: 22.3s\n",
            "3000:\tlearn: 0.5306912\ttotal: 22.5s\tremaining: 15s\n",
            "4000:\tlearn: 0.5005245\ttotal: 30.1s\tremaining: 7.52s\n",
            "4999:\tlearn: 0.4741981\ttotal: 37.7s\tremaining: 0us\n",
            "The accuracy score of the CatBoostClassifier is 63\n",
            "The F1 score of the CatBoostClassifier is 63\n",
            "AUC 0.6855102842918904\n",
            "================================Fold3====================================\n",
            "Learning rate set to 0.006298\n",
            "0:\tlearn: 0.6927489\ttotal: 7.86ms\tremaining: 39.3s\n",
            "1000:\tlearn: 0.6118576\ttotal: 7.12s\tremaining: 28.4s\n",
            "2000:\tlearn: 0.5725418\ttotal: 17s\tremaining: 25.4s\n",
            "3000:\tlearn: 0.5371609\ttotal: 24.2s\tremaining: 16.1s\n",
            "4000:\tlearn: 0.5072775\ttotal: 31.4s\tremaining: 7.84s\n",
            "4999:\tlearn: 0.4810655\ttotal: 38.6s\tremaining: 0us\n",
            "The accuracy score of the CatBoostClassifier is 64\n",
            "The F1 score of the CatBoostClassifier is 63\n",
            "AUC 0.7014585978639889\n",
            "================================Fold4====================================\n",
            "Learning rate set to 0.006298\n",
            "0:\tlearn: 0.6927541\ttotal: 7.37ms\tremaining: 36.8s\n",
            "1000:\tlearn: 0.6081718\ttotal: 7.16s\tremaining: 28.6s\n",
            "2000:\tlearn: 0.5680819\ttotal: 14.4s\tremaining: 21.6s\n",
            "3000:\tlearn: 0.5324466\ttotal: 21.5s\tremaining: 14.3s\n",
            "4000:\tlearn: 0.5028510\ttotal: 28.7s\tremaining: 7.17s\n",
            "4999:\tlearn: 0.4768574\ttotal: 35.9s\tremaining: 0us\n",
            "The accuracy score of the CatBoostClassifier is 64\n",
            "The F1 score of the CatBoostClassifier is 64\n",
            "AUC 0.6917769279141696\n"
          ]
        }
      ]
    },
    {
      "cell_type": "markdown",
      "source": [
        "#### Stratified KFOLD(Best Performance)"
      ],
      "metadata": {
        "id": "eTjN7rgA8LM3"
      },
      "id": "eTjN7rgA8LM3"
    },
    {
      "cell_type": "code",
      "source": [
        "kf = StratifiedKFold(n_splits=5,random_state=43,shuffle=True)\n",
        "# cat_scores = []\n",
        "# cat_proba = []\n",
        "cat_pred = np.zeros(len(test))\n",
        "# thresh = 0.4\n",
        "for fold,(tr_in,te_in) in enumerate(kf.split(X,y)):\n",
        "    print(\"================================Fold{fold}====================================\".format(fold=fold))\n",
        "    X_train,X_test = X.iloc[tr_in],X.iloc[te_in]\n",
        "    y_train,y_test = y.iloc[tr_in],y.iloc[te_in]\n",
        "\n",
        "    cat = CatBoostClassifier(n_estimators= 5000, verbose =1000,random_state=7)\n",
        "    cat.fit(X_train,y_train)\n",
        "    evaluate(cat, X_test, y_test)\n",
        "    \n",
        "    cat_pred += cat.predict_proba(test)[:,1]"
      ],
      "metadata": {
        "id": "wu3f1R5J8Aon",
        "colab": {
          "base_uri": "https://localhost:8080/"
        },
        "outputId": "cff98755-f71c-47d4-a6d7-03e943349fc1"
      },
      "id": "wu3f1R5J8Aon",
      "execution_count": null,
      "outputs": [
        {
          "output_type": "stream",
          "name": "stdout",
          "text": [
            "================================Fold0====================================\n",
            "Learning rate set to 0.006298\n",
            "0:\tlearn: 0.6927681\ttotal: 7.07ms\tremaining: 35.4s\n",
            "1000:\tlearn: 0.6077772\ttotal: 7.28s\tremaining: 29.1s\n",
            "2000:\tlearn: 0.5666086\ttotal: 17.3s\tremaining: 25.9s\n",
            "3000:\tlearn: 0.5309748\ttotal: 29.1s\tremaining: 19.4s\n",
            "4000:\tlearn: 0.5011911\ttotal: 36.5s\tremaining: 9.1s\n",
            "4999:\tlearn: 0.4748111\ttotal: 43.7s\tremaining: 0us\n",
            "The accuracy score of the CatBoostClassifier is 62\n",
            "The F1 score of the CatBoostClassifier is 61\n",
            "AUC 0.6698432984394066\n",
            "================================Fold1====================================\n",
            "Learning rate set to 0.006298\n",
            "0:\tlearn: 0.6926897\ttotal: 6.97ms\tremaining: 34.8s\n",
            "1000:\tlearn: 0.6109130\ttotal: 7.19s\tremaining: 28.7s\n",
            "2000:\tlearn: 0.5716456\ttotal: 14.4s\tremaining: 21.5s\n",
            "3000:\tlearn: 0.5369241\ttotal: 21.5s\tremaining: 14.4s\n",
            "4000:\tlearn: 0.5074715\ttotal: 28.8s\tremaining: 7.19s\n",
            "4999:\tlearn: 0.4819454\ttotal: 36s\tremaining: 0us\n",
            "The accuracy score of the CatBoostClassifier is 62\n",
            "The F1 score of the CatBoostClassifier is 62\n",
            "AUC 0.6937253767794594\n",
            "================================Fold2====================================\n",
            "Learning rate set to 0.006298\n",
            "0:\tlearn: 0.6927203\ttotal: 9.41ms\tremaining: 47s\n",
            "1000:\tlearn: 0.6084357\ttotal: 7.25s\tremaining: 29s\n",
            "2000:\tlearn: 0.5685283\ttotal: 14.4s\tremaining: 21.6s\n",
            "3000:\tlearn: 0.5335805\ttotal: 21.6s\tremaining: 14.4s\n",
            "4000:\tlearn: 0.5042116\ttotal: 28.9s\tremaining: 7.21s\n",
            "4999:\tlearn: 0.4785683\ttotal: 36.1s\tremaining: 0us\n",
            "The accuracy score of the CatBoostClassifier is 61\n",
            "The F1 score of the CatBoostClassifier is 61\n",
            "AUC 0.673623188405797\n",
            "================================Fold3====================================\n",
            "Learning rate set to 0.006298\n",
            "0:\tlearn: 0.6927148\ttotal: 7.91ms\tremaining: 39.5s\n",
            "1000:\tlearn: 0.6088824\ttotal: 7.23s\tremaining: 28.9s\n",
            "2000:\tlearn: 0.5689252\ttotal: 14.4s\tremaining: 21.6s\n",
            "3000:\tlearn: 0.5331157\ttotal: 24.3s\tremaining: 16.2s\n",
            "4000:\tlearn: 0.5033453\ttotal: 31.5s\tremaining: 7.87s\n",
            "4999:\tlearn: 0.4772592\ttotal: 38.8s\tremaining: 0us\n",
            "The accuracy score of the CatBoostClassifier is 63\n",
            "The F1 score of the CatBoostClassifier is 63\n",
            "AUC 0.6872168128795912\n",
            "================================Fold4====================================\n",
            "Learning rate set to 0.006298\n",
            "0:\tlearn: 0.6926965\ttotal: 6.95ms\tremaining: 34.8s\n",
            "1000:\tlearn: 0.6080786\ttotal: 7.28s\tremaining: 29.1s\n",
            "2000:\tlearn: 0.5677732\ttotal: 14.5s\tremaining: 21.8s\n",
            "3000:\tlearn: 0.5319827\ttotal: 21.7s\tremaining: 14.5s\n",
            "4000:\tlearn: 0.5011864\ttotal: 29s\tremaining: 7.23s\n",
            "4999:\tlearn: 0.4743746\ttotal: 36.1s\tremaining: 0us\n",
            "The accuracy score of the CatBoostClassifier is 62\n",
            "The F1 score of the CatBoostClassifier is 62\n",
            "AUC 0.6814396349497092\n"
          ]
        }
      ]
    },
    {
      "cell_type": "code",
      "source": [
        "kf = StratifiedKFold(n_splits=10,random_state=43,shuffle=True)\n",
        "# cat_scores = []\n",
        "# cat_proba = []\n",
        "cat_pred = np.zeros(len(test))\n",
        "# thresh = 0.4\n",
        "for fold,(tr_in,te_in) in enumerate(kf.split(X,y)):\n",
        "    print(\"================================Fold{fold}====================================\".format(fold=fold))\n",
        "    X_train,X_test = X.iloc[tr_in],X.iloc[te_in]\n",
        "    y_train,y_test = y.iloc[tr_in],y.iloc[te_in]\n",
        "\n",
        "    cat = CatBoostClassifier(n_estimators= 5000, verbose =3000,random_state=7)\n",
        "    cat.fit(X_train,y_train)\n",
        "    evaluate(cat, X_test, y_test)\n",
        "    \n",
        "    cat_pred += cat.predict_proba(test)[:,1]"
      ],
      "metadata": {
        "id": "BhRGF6rO8T5q",
        "colab": {
          "base_uri": "https://localhost:8080/"
        },
        "outputId": "4c00c271-5a30-436b-b345-f9c1527454bd"
      },
      "id": "BhRGF6rO8T5q",
      "execution_count": null,
      "outputs": [
        {
          "output_type": "stream",
          "name": "stdout",
          "text": [
            "================================Fold0====================================\n",
            "Learning rate set to 0.006623\n",
            "0:\tlearn: 0.6926692\ttotal: 7.5ms\tremaining: 37.5s\n",
            "3000:\tlearn: 0.5365199\ttotal: 22.4s\tremaining: 14.9s\n",
            "4999:\tlearn: 0.4827864\ttotal: 37.5s\tremaining: 0us\n",
            "The accuracy score of the CatBoostClassifier is 62\n",
            "The F1 score of the CatBoostClassifier is 62\n",
            "AUC 0.6716305953374864\n",
            "================================Fold1====================================\n",
            "Learning rate set to 0.006623\n",
            "0:\tlearn: 0.6926769\ttotal: 8.16ms\tremaining: 40.8s\n",
            "3000:\tlearn: 0.5360944\ttotal: 22.5s\tremaining: 15s\n",
            "4999:\tlearn: 0.4829537\ttotal: 37.4s\tremaining: 0us\n",
            "The accuracy score of the CatBoostClassifier is 63\n",
            "The F1 score of the CatBoostClassifier is 62\n",
            "AUC 0.681122599704579\n",
            "================================Fold2====================================\n",
            "Learning rate set to 0.006623\n",
            "0:\tlearn: 0.6926825\ttotal: 12.3ms\tremaining: 1m 1s\n",
            "3000:\tlearn: 0.5383374\ttotal: 22.2s\tremaining: 14.8s\n",
            "4999:\tlearn: 0.4850806\ttotal: 39.8s\tremaining: 0us\n",
            "The accuracy score of the CatBoostClassifier is 63\n",
            "The F1 score of the CatBoostClassifier is 63\n",
            "AUC 0.6919118874831417\n",
            "================================Fold3====================================\n",
            "Learning rate set to 0.006623\n",
            "0:\tlearn: 0.6927221\ttotal: 8.04ms\tremaining: 40.2s\n",
            "3000:\tlearn: 0.5387448\ttotal: 22.4s\tremaining: 14.9s\n",
            "4999:\tlearn: 0.4862261\ttotal: 37.3s\tremaining: 0us\n",
            "The accuracy score of the CatBoostClassifier is 63\n",
            "The F1 score of the CatBoostClassifier is 62\n",
            "AUC 0.691973540556162\n",
            "================================Fold4====================================\n",
            "Learning rate set to 0.006623\n",
            "0:\tlearn: 0.6926514\ttotal: 7.45ms\tremaining: 37.2s\n",
            "3000:\tlearn: 0.5382927\ttotal: 22.6s\tremaining: 15s\n",
            "4999:\tlearn: 0.4857444\ttotal: 37.6s\tremaining: 0us\n",
            "The accuracy score of the CatBoostClassifier is 63\n",
            "The F1 score of the CatBoostClassifier is 63\n",
            "AUC 0.6888677670027615\n",
            "================================Fold5====================================\n",
            "Learning rate set to 0.006623\n",
            "0:\tlearn: 0.6926979\ttotal: 8.02ms\tremaining: 40.1s\n",
            "3000:\tlearn: 0.5364454\ttotal: 22.4s\tremaining: 14.9s\n",
            "4999:\tlearn: 0.4832320\ttotal: 37.3s\tremaining: 0us\n",
            "The accuracy score of the CatBoostClassifier is 61\n",
            "The F1 score of the CatBoostClassifier is 61\n",
            "AUC 0.6711373707533235\n",
            "================================Fold6====================================\n",
            "Learning rate set to 0.006623\n",
            "0:\tlearn: 0.6926667\ttotal: 7.88ms\tremaining: 39.4s\n",
            "3000:\tlearn: 0.5345012\ttotal: 22.6s\tremaining: 15s\n",
            "4999:\tlearn: 0.4797084\ttotal: 37.6s\tremaining: 0us\n",
            "The accuracy score of the CatBoostClassifier is 62\n",
            "The F1 score of the CatBoostClassifier is 62\n",
            "AUC 0.6750990481090816\n",
            "================================Fold7====================================\n",
            "Learning rate set to 0.006623\n",
            "0:\tlearn: 0.6927344\ttotal: 8.55ms\tremaining: 42.8s\n",
            "3000:\tlearn: 0.5389453\ttotal: 22.5s\tremaining: 15s\n",
            "4999:\tlearn: 0.4861606\ttotal: 37.6s\tremaining: 0us\n",
            "The accuracy score of the CatBoostClassifier is 65\n",
            "The F1 score of the CatBoostClassifier is 65\n",
            "AUC 0.7088808850012863\n",
            "================================Fold8====================================\n",
            "Learning rate set to 0.006623\n",
            "0:\tlearn: 0.6926748\ttotal: 7.64ms\tremaining: 38.2s\n",
            "3000:\tlearn: 0.5363489\ttotal: 25.1s\tremaining: 16.7s\n",
            "4999:\tlearn: 0.4818220\ttotal: 40.2s\tremaining: 0us\n",
            "The accuracy score of the CatBoostClassifier is 63\n",
            "The F1 score of the CatBoostClassifier is 62\n",
            "AUC 0.6924105994340108\n",
            "================================Fold9====================================\n",
            "Learning rate set to 0.006623\n",
            "0:\tlearn: 0.6927053\ttotal: 7.06ms\tremaining: 35.3s\n",
            "3000:\tlearn: 0.5361627\ttotal: 22.6s\tremaining: 15.1s\n",
            "4999:\tlearn: 0.4818624\ttotal: 37.7s\tremaining: 0us\n",
            "The accuracy score of the CatBoostClassifier is 63\n",
            "The F1 score of the CatBoostClassifier is 63\n",
            "AUC 0.6815538976074094\n"
          ]
        }
      ]
    },
    {
      "cell_type": "code",
      "source": [
        "cat_pred = cat_pred/5"
      ],
      "metadata": {
        "id": "4CqX_gaJ8Zi9"
      },
      "id": "4CqX_gaJ8Zi9",
      "execution_count": null,
      "outputs": []
    },
    {
      "cell_type": "code",
      "source": [
        "cat_pred = cat_pred/10"
      ],
      "metadata": {
        "id": "XwL5-ITN8gBs"
      },
      "id": "XwL5-ITN8gBs",
      "execution_count": null,
      "outputs": []
    },
    {
      "cell_type": "code",
      "source": [
        "cat_sub = pd.DataFrame({'Entry_id':entry, 'e_signed':cat_pred})\n",
        "cat_sub.to_csv('cat_pred_strat10.csv', index = False)"
      ],
      "metadata": {
        "id": "E3MulKaf8fkk"
      },
      "id": "E3MulKaf8fkk",
      "execution_count": null,
      "outputs": []
    },
    {
      "cell_type": "markdown",
      "source": [
        "#### LightGBM"
      ],
      "metadata": {
        "id": "4jP0-tVC8uG2"
      },
      "id": "4jP0-tVC8uG2"
    },
    {
      "cell_type": "code",
      "source": [
        "kf = KFold(n_splits=5,random_state=43,shuffle=True)\n",
        "# lgb_scores = []\n",
        "# lgb_proba = []\n",
        "lgb_pred = np.zeros(len(test))\n",
        "thresh = 0.4\n",
        "for fold,(tr_in,te_in) in enumerate(kf.split(X,y)):\n",
        "    print(\"================================Fold{fold}====================================\".format(fold=fold))\n",
        "    X_train,X_test = X.iloc[tr_in],X.iloc[te_in]\n",
        "    y_train,y_test = y.iloc[tr_in],y.iloc[te_in]\n",
        "\n",
        "    lgb = LGBMClassifier(n_estimators=5000, learning_rate=0.01, subsample=0.6,\n",
        "                           colsample_bytree=0.5, max_depth=4,random_state = 7,\n",
        "                        min_child_weight = 12,silent = True, num_leaves = 22)\n",
        "    lgb.fit(X_train,y_train)\n",
        "    evaluate(lgb, X_test, y_test)\n",
        "    \n",
        "    lgb_pred += lgb.predict_proba(test)[:,1]"
      ],
      "metadata": {
        "id": "dxUDgykI8pQn",
        "colab": {
          "base_uri": "https://localhost:8080/"
        },
        "outputId": "5d58e72b-b9cc-468b-f351-ca175aac95ec"
      },
      "id": "dxUDgykI8pQn",
      "execution_count": null,
      "outputs": [
        {
          "output_type": "stream",
          "name": "stdout",
          "text": [
            "================================Fold0====================================\n",
            "The accuracy score of the LGBMClassifier is 61\n",
            "The F1 score of the LGBMClassifier is 60\n",
            "AUC 0.666799820178537\n",
            "================================Fold1====================================\n",
            "The accuracy score of the LGBMClassifier is 61\n",
            "The F1 score of the LGBMClassifier is 61\n",
            "AUC 0.6644164580323773\n",
            "================================Fold2====================================\n",
            "The accuracy score of the LGBMClassifier is 61\n",
            "The F1 score of the LGBMClassifier is 61\n",
            "AUC 0.6679176845636723\n",
            "================================Fold3====================================\n",
            "The accuracy score of the LGBMClassifier is 64\n",
            "The F1 score of the LGBMClassifier is 63\n",
            "AUC 0.6939335735325396\n",
            "================================Fold4====================================\n",
            "The accuracy score of the LGBMClassifier is 63\n",
            "The F1 score of the LGBMClassifier is 63\n",
            "AUC 0.6877125550236778\n"
          ]
        }
      ]
    },
    {
      "cell_type": "code",
      "source": [
        "lgb_pred = lgb_pred/5\n",
        "\n",
        "lgb_sub = pd.DataFrame({'Entry_id':entry, 'e_signed':lgb_pred})\n",
        "\n",
        "lgb_sub.to_csv('lgb_pred.csv', index = False)"
      ],
      "metadata": {
        "id": "JB6Qkt2281BP"
      },
      "id": "JB6Qkt2281BP",
      "execution_count": null,
      "outputs": []
    },
    {
      "cell_type": "code",
      "source": [
        "plt.barh(x.columns, lgb.feature_importances_)\n",
        "plt.title(\"Contribution Of Each Feature (CatBoost)\")\n",
        "plt.show()"
      ],
      "metadata": {
        "id": "mqC_1WHI85Aq",
        "colab": {
          "base_uri": "https://localhost:8080/",
          "height": 281
        },
        "outputId": "1f7e484b-d882-46e1-e074-173a29d02510"
      },
      "id": "mqC_1WHI85Aq",
      "execution_count": null,
      "outputs": [
        {
          "output_type": "display_data",
          "data": {
            "text/plain": [
              "<Figure size 432x288 with 1 Axes>"
            ],
            "image/png": "[encoded data removed]"
          },
          "metadata": {
            "needs_background": "light"
          }
        }
      ]
    },
    {
      "cell_type": "markdown",
      "source": [
        "#### Stacking"
      ],
      "metadata": {
        "id": "5xgHxjun9GIJ"
      },
      "id": "5xgHxjun9GIJ"
    },
    {
      "cell_type": "code",
      "source": [
        "blend=(cat_pred + lgb_pred)/2\n",
        "blend"
      ],
      "metadata": {
        "id": "I5pxFs2a9EMy",
        "colab": {
          "base_uri": "https://localhost:8080/"
        },
        "outputId": "6f81de28-174b-48e3-a0db-3339b3f0f80b"
      },
      "id": "I5pxFs2a9EMy",
      "execution_count": null,
      "outputs": [
        {
          "output_type": "execute_result",
          "data": {
            "text/plain": [
              "array([0.27812895, 0.54607245, 0.33220958, ..., 0.34328958, 0.28487439,\n",
              "       0.3239164 ])"
            ]
          },
          "metadata": {},
          "execution_count": 75
        }
      ]
    },
    {
      "cell_type": "code",
      "source": [
        "cat_pred"
      ],
      "metadata": {
        "id": "wWVpT3N69D-m",
        "colab": {
          "base_uri": "https://localhost:8080/"
        },
        "outputId": "8eda411a-4f39-412f-f307-8b8a80668f03"
      },
      "id": "wWVpT3N69D-m",
      "execution_count": null,
      "outputs": [
        {
          "output_type": "execute_result",
          "data": {
            "text/plain": [
              "array([0.08486574, 0.16837774, 0.10369425, ..., 0.11567801, 0.08582965,\n",
              "       0.11106159])"
            ]
          },
          "metadata": {},
          "execution_count": 76
        }
      ]
    },
    {
      "cell_type": "code",
      "source": [
        "lgb_pred"
      ],
      "metadata": {
        "id": "2TT5faul9QUT",
        "colab": {
          "base_uri": "https://localhost:8080/"
        },
        "outputId": "46aa46b5-1077-4ee2-d8e3-95ea7a680e52"
      },
      "id": "2TT5faul9QUT",
      "execution_count": null,
      "outputs": [
        {
          "output_type": "execute_result",
          "data": {
            "text/plain": [
              "array([0.47139216, 0.92376716, 0.56072492, ..., 0.57090114, 0.48391913,\n",
              "       0.5367712 ])"
            ]
          },
          "metadata": {},
          "execution_count": 77
        }
      ]
    },
    {
      "cell_type": "code",
      "source": [
        "blend_sub = pd.DataFrame({'Entry_id':entry, 'e_signed':blend})\n",
        "\n",
        "blend_sub.to_csv('blend.csv', index = False)"
      ],
      "metadata": {
        "id": "LrqGlila9Zwr"
      },
      "id": "LrqGlila9Zwr",
      "execution_count": null,
      "outputs": []
    },
    {
      "cell_type": "markdown",
      "source": [
        "\n",
        "\n",
        "---\n",
        "\n",
        "\n",
        "\n",
        "---\n",
        "\n"
      ],
      "metadata": {
        "id": "8rgbDaIvwt-0"
      },
      "id": "8rgbDaIvwt-0"
    }
  ],
  "metadata": {
    "kernelspec": {
      "display_name": "Python 3 (ipykernel)",
      "language": "python",
      "name": "python3"
    },
    "language_info": {
      "codemirror_mode": {
        "name": "ipython",
        "version": 3
      },
      "file_extension": ".py",
      "mimetype": "text/x-python",
      "name": "python",
      "nbconvert_exporter": "python",
      "pygments_lexer": "ipython3",
      "version": "3.9.12"
    },
    "colab": {
      "provenance": [],
      "collapsed_sections": []
    }
  },
  "nbformat": 4,
  "nbformat_minor": 5
}